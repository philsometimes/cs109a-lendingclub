{
 "cells": [
  {
   "cell_type": "markdown",
   "metadata": {},
   "source": [
    "*** Trivial Model ***\n",
    "\n",
    "We implemented a trivial model that always predicts a given person will repay their loan. It is worth noting that this model is representative of Lending Club's prediction. Since we only have access to accepted loan data, Lending Club is inherently predicting that a loan will be repayed because they wouldn't give a loan that they expected not to be repayed."
   ]
  },
  {
   "cell_type": "code",
   "execution_count": 21,
   "metadata": {},
   "outputs": [
    {
     "name": "stdout",
     "output_type": "stream",
     "text": [
      "2007 Data\n",
      "Train score: 0.7297181895815542\n",
      "Test score: 0.7389078498293515\n",
      "2016 Data\n",
      "Train score: 0.7504867731972606\n",
      "Test score: 0.750128684287089\n"
     ]
    }
   ],
   "source": [
    "#Trivial Model in which all loans are accepted\n",
    "triv_mod_07_train = np.sum(df_07_y_train)/len(df_07_y_train)\n",
    "triv_mod_07_test = np.sum(df_07_y_test)/len(df_07_y_test)\n",
    "print('2007 Data\\nTrain score: '+str(triv_mod_07_train))\n",
    "print('Test score: '+str(triv_mod_07_test))\n",
    "triv_mod_16_train = np.sum(df_16_y_train)/len(df_16_y_train)\n",
    "triv_mod_16_test = np.sum(df_16_y_test)/len(df_16_y_test)\n",
    "print('2016 Data\\nTrain score: '+str(triv_mod_16_train))\n",
    "print('Test score: '+str(triv_mod_16_test))"
   ]
  },
  {
   "cell_type": "markdown",
   "metadata": {},
   "source": [
    "*** Logistic Regression Model ***\n",
    "\n",
    "The first model we chose is a simple logistic regression with cross validation. We trained it on the training set and printed the scores on both the training and test data sets. The test accuracy was 0.737 which is just below our trivial model's score- meaning it performs moderately worse than Lending Club's algorithm."
   ]
  },
  {
   "cell_type": "code",
   "execution_count": 22,
   "metadata": {},
   "outputs": [
    {
     "name": "stdout",
     "output_type": "stream",
     "text": [
      "The accuracy of Logistic Regression Model on 2007 Training Set is  0.7292912040990607\n",
      "The accuracy of Logistic Regression Model on 2007 Testing Set is  0.7372013651877133\n"
     ]
    }
   ],
   "source": [
    "#Logistic regression on 2007 data\n",
    "log_mod07 = LogisticRegressionCV().fit(df_07_X_train, df_07_y_train.values)\n",
    "\n",
    "log_mod07_train_score = log_mod07.score(df_07_X_train,df_07_y_train.values)\n",
    "log_mod07_test_score =log_mod07.score(df_07_X_test,df_07_y_test.values)\n",
    "print(\"The accuracy of Logistic Regression Model on 2007 Training Set is \", log_mod07_train_score)\n",
    "print(\"The accuracy of Logistic Regression Model on 2007 Testing Set is \", log_mod07_test_score)"
   ]
  },
  {
   "cell_type": "code",
   "execution_count": 23,
   "metadata": {},
   "outputs": [
    {
     "name": "stdout",
     "output_type": "stream",
     "text": [
      "The accuracy of Logistic Regression Model on 2016 Training Set is  0.7518407859988362\n",
      "The accuracy of Logistic Regression Model on 2016 Testing Set is  0.7517400353602041\n"
     ]
    }
   ],
   "source": [
    "#Logistic regression on 2016 data\n",
    "log_mod16 = LogisticRegressionCV().fit(df_16_X_train, df_16_y_train.values)\n",
    "\n",
    "log_mod16_train_score = log_mod16.score(df_16_X_train, df_16_y_train.values)\n",
    "log_mod16_test_score = log_mod16.score(df_16_X_test, df_16_y_test.values)\n",
    "print(\"The accuracy of Logistic Regression Model on 2016 Training Set is \", log_mod16_train_score)\n",
    "print(\"The accuracy of Logistic Regression Model on 2016 Testing Set is \", log_mod16_test_score)"
   ]
  },
  {
   "cell_type": "markdown",
   "metadata": {},
   "source": [
    "*** Decision Tree Model ***\n",
    "\n",
    "To create a Decision Tree model, we began by optimizing the tree depth. Our optimal depth was found to be max_depth =i. Depths past i appeared to be overfit, yielding great train accuracies, and poor test accuracies. We then ran the model on both 2007 and 2016 data. The model yielded comparable accuracies to that of Lending Club's."
   ]
  },
  {
   "cell_type": "code",
   "execution_count": 24,
   "metadata": {},
   "outputs": [],
   "source": [
    "# Get train score, cross val score means and stds\n",
    "train_scores = []\n",
    "cvmeans = []\n",
    "cvstds = []\n",
    "depths = list(range(1, 15))\n",
    "#for all specified maximum tree depths --> fit model and add scores to list\n",
    "for i in depths:\n",
    "    #create/fit model\n",
    "    tree = DecisionTreeClassifier(max_depth = i).fit(df_07_X_train, df_07_y_train.values) \n",
    "    train_scores.append(tree.score(df_07_X_train, df_07_y_train.values))\n",
    "    score = cross_val_score(estimator=tree, X=df_07_X_train, y=df_07_y_train.values, cv=5)\n",
    "    cvmeans.append(score.mean())\n",
    "    cvstds.append(score.std())\n",
    "    \n",
    "cvstds = np.array(cvstds)\n",
    "cvmeans = np.array(cvmeans)"
   ]
  },
  {
   "cell_type": "code",
   "execution_count": 25,
   "metadata": {},
   "outputs": [
    {
     "data": {
      "image/png": "[encoded data removed]",
      "text/plain": [
       "<Figure size 432x288 with 1 Axes>"
      ]
     },
     "metadata": {},
     "output_type": "display_data"
    }
   ],
   "source": [
    "#create plot\n",
    "plt.plot(depths, cvmeans, label=\"Mean Cross Val\")\n",
    "plt.fill_between(depths, cvmeans - 2*cvstds, cvmeans + 2*cvstds, alpha=0.5)\n",
    "ylim = plt.ylim()\n",
    "plt.plot(depths, train_scores, '-+', label=\"Train\")\n",
    "plt.legend()\n",
    "plt.ylabel(\"Accuracy\")\n",
    "plt.xlabel(\"Max Depth\")\n",
    "plt.xticks(depths)\n",
    "plt.title(\"Cross Val Score and Train Score vs Depth\");"
   ]
  },
  {
   "cell_type": "code",
   "execution_count": 26,
   "metadata": {},
   "outputs": [
    {
     "name": "stdout",
     "output_type": "stream",
     "text": [
      "The accuracy of Tree Model on 2007 Training Set is  0.7399658411614005\n",
      "The accuracy of Tree Model on 2007 Testing Set is  0.7320819112627986\n"
     ]
    }
   ],
   "source": [
    "# tree model for 2007 data\n",
    "tree07 = DecisionTreeClassifier(max_depth = 4).fit(df_07_X_train, df_07_y_train.values)\n",
    "\n",
    "tree07_train_score = tree07.score(df_07_X_train, df_07_y_train.values)\n",
    "tree07_test_score = tree07.score(df_07_X_test, df_07_y_test.values)\n",
    "\n",
    "print(\"The accuracy of Tree Model on 2007 Training Set is \", tree07_train_score)\n",
    "print(\"The accuracy of Tree Model on 2007 Testing Set is \", tree07_test_score)"
   ]
  },
  {
   "cell_type": "code",
   "execution_count": 27,
   "metadata": {},
   "outputs": [
    {
     "name": "stdout",
     "output_type": "stream",
     "text": [
      "The accuracy of Tree Model on 2016 Training Set is  0.7504867731972606\n",
      "The accuracy of Tree Model on 2016 Testing Set is  0.750128684287089\n"
     ]
    }
   ],
   "source": [
    "# tree model for 2016 data\n",
    "tree16 = DecisionTreeClassifier(max_depth = 4).fit(df_16_X_train, df_16_y_train.values)\n",
    "\n",
    "tree16_train_score = tree16.score(df_16_X_train, df_16_y_train.values)\n",
    "tree16_test_score = tree16.score(df_16_X_test, df_16_y_test.values)\n",
    "\n",
    "print(\"The accuracy of Tree Model on 2016 Training Set is \", tree16_train_score)\n",
    "print(\"The accuracy of Tree Model on 2016 Testing Set is \", tree16_test_score)"
   ]
  },
  {
   "cell_type": "markdown",
   "metadata": {},
   "source": [
    "*** Random Forest Model ***\n",
    "\n",
    "Next we wanted to create an ensemble model, building off our decision tree model. We stuck with our best max depth of 6, and chose to use 45 trees because it provided solid accuracy, without being too computationally expensive. Our model, again, yielded comparable results ot that of Lending Club."
   ]
  },
  {
   "cell_type": "code",
   "execution_count": 28,
   "metadata": {},
   "outputs": [
    {
     "name": "stdout",
     "output_type": "stream",
     "text": [
      "The accuracy of Random Forest Model on 2007 Training Set is  0.7344150298889838\n",
      "The accuracy of Random Forest Model on 2007 Testing Set is  0.7389078498293515\n"
     ]
    }
   ],
   "source": [
    "randy07 = RandomForestClassifier(n_estimators = 45, max_depth = 6).fit(df_07_X_train, df_07_y_train.values)\n",
    "randy07_train_score = randy07.score(df_07_X_train, df_07_y_train.values)\n",
    "randy07_test_score = randy07.score(df_07_X_test, df_07_y_test.values)\n",
    "print(\"The accuracy of Random Forest Model on 2007 Training Set is \", randy07_train_score)\n",
    "print(\"The accuracy of Random Forest Model on 2007 Testing Set is \", randy07_test_score)"
   ]
  },
  {
   "cell_type": "code",
   "execution_count": 29,
   "metadata": {},
   "outputs": [
    {
     "name": "stdout",
     "output_type": "stream",
     "text": [
      "The accuracy of Random Forest Model on 2016 Training Set is  0.7504867731972606\n",
      "The accuracy of Random Forest Model on 2016 Testing Set is  0.750128684287089\n"
     ]
    }
   ],
   "source": [
    "randy16 = RandomForestClassifier(n_estimators = 45, max_depth = 6).fit(df_16_X_train, df_16_y_train.values)\n",
    "randy16_train_score = randy16.score(df_16_X_train, df_16_y_train.values)\n",
    "randy16_test_score = randy16.score(df_16_X_test, df_16_y_test.values)\n",
    "print(\"The accuracy of Random Forest Model on 2016 Training Set is \", randy16_train_score)\n",
    "print(\"The accuracy of Random Forest Model on 2016 Testing Set is \", randy16_test_score)"
   ]
  },
  {
   "cell_type": "markdown",
   "metadata": {},
   "source": [
    "*** AdaBoost Model ***\n",
    "\n",
    "Finally we used an AdaBoost model. This meta estimator fits a decision tree classifier on our training set, then fits additional copies of the model on the same training set, but adjusts weights such that subsequent classifiers focus on challenging cases. For the 2016 dataset, we had to reduce the max depth and estimators to limit the computational time of the model. Both models delivered comparable accuracies to that of Lending Club's model."
   ]
  },
  {
   "cell_type": "code",
   "execution_count": 30,
   "metadata": {},
   "outputs": [
    {
     "name": "stdout",
     "output_type": "stream",
     "text": [
      "The accuracy of Ada Boost Model on 2007 Training Set is  1.0\n",
      "The accuracy of Ada Boost Model on 2007 Testing Set is  0.7474402730375427\n"
     ]
    }
   ],
   "source": [
    "ada07 = AdaBoostClassifier(base_estimator=DecisionTreeClassifier(max_depth=6), n_estimators=800, learning_rate=0.05).fit(df_07_X_train, df_07_y_train.values)\n",
    "ada07_train_score = ada07.score(df_07_X_train, df_07_y_train.values)\n",
    "ada07_test_score = ada07.score(df_07_X_test, df_07_y_test.values)\n",
    "print(\"The accuracy of Ada Boost Model on 2007 Training Set is \", ada07_train_score)\n",
    "print(\"The accuracy of Ada Boost Model on 2007 Testing Set is \", ada07_test_score)"
   ]
  },
  {
   "cell_type": "code",
   "execution_count": 31,
   "metadata": {},
   "outputs": [
    {
     "name": "stdout",
     "output_type": "stream",
     "text": [
      "The accuracy of Ada Boost Model on 2016 Training Set is  0.7506881965892306\n",
      "The accuracy of Ada Boost Model on 2016 Testing Set is  0.7503972427992749\n"
     ]
    }
   ],
   "source": [
    "# Takes a while to run\n",
    "ada16 = AdaBoostClassifier(base_estimator=DecisionTreeClassifier(max_depth=3), n_estimators=80, learning_rate=0.05).fit(df_16_X_train, df_16_y_train.values)\n",
    "ada16_train_score = ada16.score(df_16_X_train, df_16_y_train.values)\n",
    "ada16_test_score = ada16.score(df_16_X_test, df_16_y_test.values)\n",
    "print(\"The accuracy of Ada Boost Model on 2016 Training Set is \", ada16_train_score)\n",
    "print(\"The accuracy of Ada Boost Model on 2016 Testing Set is \", ada16_test_score)"
   ]
  },
  {
   "cell_type": "markdown",
   "metadata": {},
   "source": [
    "*** LDA Model ***\n",
    "\n",
    "Finally, we chose to use linear discriminant analysis. Unsurprisingly, our LDA models performed similarly to the trivial models."
   ]
  },
  {
   "cell_type": "code",
   "execution_count": 32,
   "metadata": {},
   "outputs": [
    {
     "name": "stdout",
     "output_type": "stream",
     "text": [
      "The accuracy of LDA Model on 2007 Training Set is  0.7361229718189581\n",
      "The accuracy of LDA Model on 2007 Testing Set is  0.7235494880546075\n"
     ]
    }
   ],
   "source": [
    "#Build an LDA Model and report train and test accuracy\n",
    "lda07 = LinearDiscriminantAnalysis().fit(df_07_X_train, df_07_y_train.values)\n",
    "lda07_train_score = lda07.score(df_07_X_train, df_07_y_train.values)\n",
    "lda07_test_score = lda07.score(df_07_X_test, df_07_y_test.values)\n",
    "print(\"The accuracy of LDA Model on 2007 Training Set is \", lda07_train_score)\n",
    "print(\"The accuracy of LDA Model on 2007 Testing Set is \", lda07_test_score)"
   ]
  },
  {
   "cell_type": "code",
   "execution_count": 33,
   "metadata": {},
   "outputs": [
    {
     "name": "stdout",
     "output_type": "stream",
     "text": [
      "The accuracy of LDA Model on 2016 Training Set is  0.751605792041538\n",
      "The accuracy of LDA Model on 2016 Testing Set is  0.7517624152362196\n"
     ]
    }
   ],
   "source": [
    "#Build an LDA Model and report train and test accuracy\n",
    "lda16 = LinearDiscriminantAnalysis().fit(df_16_X_train, df_16_y_train.values)\n",
    "lda16_train_score = lda16.score(df_16_X_train, df_16_y_train.values)\n",
    "lda16_test_score = lda16.score(df_16_X_test, df_16_y_test.values)\n",
    "print(\"The accuracy of LDA Model on 2016 Training Set is \", lda16_train_score)\n",
    "print(\"The accuracy of LDA Model on 2016 Testing Set is \", lda16_test_score)"
   ]
  }
 ],
 "metadata": {
  "kernelspec": {
   "display_name": "Python 3",
   "language": "python",
   "name": "python3"
  },
  "language_info": {
   "codemirror_mode": {
    "name": "ipython",
    "version": 3
   },
   "file_extension": ".py",
   "mimetype": "text/x-python",
   "name": "python",
   "nbconvert_exporter": "python",
   "pygments_lexer": "ipython3",
   "version": "3.6.5"
  }
 },
 "nbformat": 4,
 "nbformat_minor": 2
}
