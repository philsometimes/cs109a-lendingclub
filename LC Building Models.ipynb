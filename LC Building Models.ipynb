{
 "cells": [
  {
   "cell_type": "code",
   "execution_count": 235,
   "metadata": {},
   "outputs": [],
   "source": [
    "# Data and Stats packages\n",
    "import numpy as np\n",
    "import pandas as pd\n",
    "import re\n",
    "import statsmodels.api as sm\n",
    "from statsmodels.api import OLS\n",
    "from sklearn import metrics, datasets\n",
    "from sklearn.model_selection import train_test_split\n",
    "from sklearn.decomposition import PCA\n",
    "from sklearn.linear_model import LogisticRegression\n",
    "from sklearn.linear_model import LogisticRegressionCV\n",
    "from sklearn.discriminant_analysis import LinearDiscriminantAnalysis\n",
    "from sklearn.discriminant_analysis import QuadraticDiscriminantAnalysis\n",
    "from sklearn.preprocessing import PolynomialFeatures\n",
    "from sklearn.neighbors import KNeighborsClassifier\n",
    "from sklearn.model_selection import cross_val_score\n",
    "from sklearn.metrics import accuracy_score\n",
    "from sklearn.model_selection import KFold\n",
    "from sklearn.preprocessing import MinMaxScaler\n",
    "from sklearn.preprocessing import StandardScaler\n",
    "\n",
    "\n",
    "\n",
    "# Visualization packages\n",
    "%matplotlib inline\n",
    "import matplotlib\n",
    "import matplotlib.pyplot as plt\n",
    "import seaborn as sns\n",
    "matplotlib.rcParams['figure.figsize'] = (13.0, 6.0)\n",
    "\n",
    "# Other\n",
    "import itertools\n",
    "\n",
    "# Aesthetic settings\n",
    "from IPython.display import display\n",
    "pd.set_option('display.max_columns', 999)\n",
    "pd.set_option('display.width', 500)\n",
    "sns.set_style('whitegrid')\n",
    "sns.set_context('talk')\n",
    "\n",
    "#Suppress warnings\n",
    "import warnings\n",
    "warnings.filterwarnings('ignore')\n"
   ]
  },
  {
   "cell_type": "code",
   "execution_count": 236,
   "metadata": {},
   "outputs": [],
   "source": [
    "#import data\n",
    "df_07to11 = pd.read_csv('./Data/LoanStats3a.csv',header=1)\n",
    "df_2016Q1 = pd.read_csv('./Data/LoanStats_2016Q1.csv',header=1)\n",
    "df_2016Q2 = pd.read_csv('./Data/LoanStats_2016Q2.csv',header=1)\n",
    "df_2016Q3 = pd.read_csv('./Data/LoanStats_2016Q3.csv',header=1)\n",
    "df_2016Q4 = pd.read_csv('./Data/LoanStats_2016Q4.csv',header=1)"
   ]
  },
  {
   "cell_type": "code",
   "execution_count": 237,
   "metadata": {},
   "outputs": [],
   "source": [
    "#concat quarterly dfs for 2016\n",
    "df_16 = pd.concat([df_2016Q1,df_2016Q2,df_2016Q3,df_2016Q4])"
   ]
  },
  {
   "cell_type": "code",
   "execution_count": 238,
   "metadata": {},
   "outputs": [
    {
     "name": "stdout",
     "output_type": "stream",
     "text": [
      "39533\n"
     ]
    }
   ],
   "source": [
    "#figure out index when 2007 data begins\n",
    "not07 = True\n",
    "i = 0\n",
    "while(not07):\n",
    "    val = df_07to11['issue_d'].values[i][-2:]  \n",
    "    if val == '07':\n",
    "        print(i)\n",
    "        not07 = False\n",
    "    i+=1"
   ]
  },
  {
   "cell_type": "code",
   "execution_count": 239,
   "metadata": {},
   "outputs": [],
   "source": [
    "#drop all data points before this (2008-2011 data)\n",
    "df_07 = df_07to11.drop(np.arange(39533))"
   ]
  },
  {
   "cell_type": "code",
   "execution_count": 240,
   "metadata": {},
   "outputs": [],
   "source": [
    "#function to clean datasets\n",
    "def clean(df):\n",
    "    preds = ['loan_status'\n",
    "         ,'loan_amnt'\n",
    "         ,'funded_amnt'\n",
    "         ,'term'\n",
    "         ,'int_rate'\n",
    "         ,'installment'\n",
    "         ,'emp_length'\n",
    "         ,'home_ownership'\n",
    "         ,'annual_inc'\n",
    "         ,'issue_d'\n",
    "         ,'zip_code'\n",
    "         ,'addr_state'\n",
    "         ,'dti'\n",
    "         ,'delinq_2yrs'\n",
    "         ,'earliest_cr_line'\n",
    "         ,'inq_last_6mths'\n",
    "         ,'mths_since_last_delinq'\n",
    "         ,'open_acc'\n",
    "         ,'pub_rec'\n",
    "         ,'revol_bal'\n",
    "         ,'revol_util'\n",
    "         ,'total_acc'\n",
    "        ]\n",
    "\n",
    "    states = df['addr_state'].unique().tolist()\n",
    "    \n",
    "    df = df[preds]\n",
    "\n",
    "    df['term'] = df['term'].str.rstrip(' months').astype('float')\n",
    "    df['int_rate'] = df['int_rate'].str.rstrip('%').astype('float') / 100.0\n",
    "    df['emp_length'] = df['emp_length'].str.strip('< + years').astype('float')\n",
    "    df['issue_d'] = pd.to_datetime(df['issue_d'])\n",
    "    df['zip_code'] = df['zip_code'].str.replace('xx','00').astype('float')\n",
    "    df['earliest_cr_line'] = pd.to_datetime(df['earliest_cr_line'])\n",
    "    \n",
    "    df['length_credit_history'] = (df['issue_d']-df['earliest_cr_line']).astype('timedelta64[D]')/30.44\n",
    "    df['mths_since_last_delinq'] = np.where(df['mths_since_last_delinq'].isna() , df['length_credit_history'], df['mths_since_last_delinq'])\n",
    "    df['revol_util'] = df['revol_util'].str.rstrip('%').astype('float') / 100.0\n",
    "    df = pd.get_dummies(df, columns = ['home_ownership'] )\n",
    "    df = pd.get_dummies(df, columns = ['addr_state'] )\n",
    "\n",
    "    df['loan_status'] = np.where(df['loan_status'] == 'Fully Paid' , 'paid', df['loan_status'])\n",
    "    df['loan_status'] = np.where(df['loan_status'] == 'Charged Off' , 'default', df['loan_status'])\n",
    "    df['loan_status'] = np.where(df['loan_status'] == 'Does not meet the credit policy. Status:Fully Paid' , 'paid', df['loan_status'])\n",
    "    df['loan_status'] = np.where(df['loan_status'] == 'Does not meet the credit policy. Status:Charged Off' , 'default', df['loan_status'])\n",
    "    \n",
    "    preds.append('length_credit_history')\n",
    "\n",
    "    df = df.dropna()\n",
    "    return df"
   ]
  },
  {
   "cell_type": "code",
   "execution_count": 241,
   "metadata": {},
   "outputs": [],
   "source": [
    "#clean the dfs\n",
    "df_07 = clean(df_07)\n",
    "df_16 = clean(df_16)"
   ]
  },
  {
   "cell_type": "code",
   "execution_count": 242,
   "metadata": {},
   "outputs": [],
   "source": [
    "#Make Loan Status Binary --> 1 for not default, 0 for default\n",
    "df_07['loan_status'] = (pd.Series(np.where(df_07.loan_status == 'default', 0, 1), df_07.index)).values"
   ]
  },
  {
   "cell_type": "code",
   "execution_count": 243,
   "metadata": {},
   "outputs": [],
   "source": [
    "df_16['loan_status'] = (pd.Series(np.where(df_16.loan_status == 'default', 0, 1), df_16.index)).values"
   ]
  },
  {
   "cell_type": "code",
   "execution_count": 244,
   "metadata": {},
   "outputs": [],
   "source": [
    "#Remove datetime columns and interest rates\n",
    "cols_to_remove = ['int_rate', 'issue_d', 'earliest_cr_line']\n",
    "df_07 = df_07.drop(cols_to_remove, axis = 1)\n",
    "df_16 = df_16.drop(cols_to_remove, axis = 1)"
   ]
  },
  {
   "cell_type": "code",
   "execution_count": 245,
   "metadata": {},
   "outputs": [],
   "source": [
    "#Split data into train and test\n",
    "df_07_train, df_07_test = train_test_split(df_07, test_size=0.2, random_state=90)\n",
    "df_16_train, df_16_test = train_test_split(df_16, test_size=0.2, random_state=90)\n",
    "\n",
    "#Split to x and y\n",
    "df_07_X_train = df_07_train.drop(labels = 'loan_status', axis = 1)\n",
    "df_07_y_train = df_07_train.loan_status\n",
    "df_07_X_test = df_07_test.drop(labels = 'loan_status', axis = 1)\n",
    "df_07_y_test = df_07_test.loan_status\n",
    "\n",
    "df_16_X_train = df_16_train.drop(labels = 'loan_status', axis = 1)\n",
    "df_16_y_train = df_16_train.loan_status\n",
    "df_16_X_test = df_16_test.drop(labels = 'loan_status', axis = 1)\n",
    "df_16_y_test = df_16_test.loan_status"
   ]
  },
  {
   "cell_type": "code",
   "execution_count": 246,
   "metadata": {},
   "outputs": [
    {
     "name": "stdout",
     "output_type": "stream",
     "text": [
      "2007 Data\n",
      "Train score: 0.7292912040990607\n",
      "Test score: 0.7406143344709898\n",
      "2016 Data\n",
      "Train score: 0.8649847885797337\n",
      "Test score: 0.8630602667849093\n"
     ]
    }
   ],
   "source": [
    "#Trivial Model in which all loans are accepted\n",
    "triv_mod_07_train = np.sum(df_07_y_train)/len(df_07_y_train)\n",
    "triv_mod_07_test = np.sum(df_07_y_test)/len(df_07_y_test)\n",
    "print('2007 Data\\nTrain score: '+str(triv_mod_07_train))\n",
    "print('Test score: '+str(triv_mod_07_test))\n",
    "triv_mod_16_train = np.sum(df_16_y_train)/len(df_16_y_train)\n",
    "triv_mod_16_test = np.sum(df_16_y_test)/len(df_16_y_test)\n",
    "print('2016 Data\\nTrain score: '+str(triv_mod_16_train))\n",
    "print('Test score: '+str(triv_mod_16_test))"
   ]
  },
  {
   "cell_type": "code",
   "execution_count": 260,
   "metadata": {},
   "outputs": [
    {
     "name": "stdout",
     "output_type": "stream",
     "text": [
      "The accuracy of Logistic Regression Model on Training Set is  0.7301451750640479\n",
      "The accuracy of Logistic Regression Model on Testing Set is  0.7406143344709898\n"
     ]
    }
   ],
   "source": [
    "#Logistiv regression on 2007 data\n",
    "log_mod07 = LogisticRegressionCV().fit(df_07_X_train, df_07_y_train.values)\n",
    "\n",
    "log_mod07_train_score = log_mod07.score(df_07_X_train,df_07_y_train.values)\n",
    "log_mod07_test_score =log_mod07.score(df_07_X_test,df_07_y_test.values)\n",
    "print(\"The accuracy of Logistic Regression Model on Training Set is \", log_mod07_train_score)\n",
    "print(\"The accuracy of Logistic Regression Model on Testing Set is \", log_mod07_test_score)"
   ]
  },
  {
   "cell_type": "code",
   "execution_count": 259,
   "metadata": {},
   "outputs": [
    {
     "name": "stdout",
     "output_type": "stream",
     "text": [
      "The accuracy of Logistic Regression Model on Training Set is  0.864981709344862\n",
      "The accuracy of Logistic Regression Model on Testing Set is  0.8630479498454224\n"
     ]
    }
   ],
   "source": [
    "#Logistic regression on 2016 data\n",
    "log_mod16 = LogisticRegressionCV().fit(df_16_X_train, df_16_y_train.values)\n",
    "\n",
    "log_mod16_train_score = log_mod16.score(df_16_X_train, df_16_y_train.values)\n",
    "log_mod16_test_score = log_mod16.score(df_16_X_test, df_16_y_test.values)\n",
    "print(\"The accuracy of Logistic Regression Model on Training Set is \", log_mod16_train_score)\n",
    "print(\"The accuracy of Logistic Regression Model on Testing Set is \", log_mod16_test_score)"
   ]
  },
  {
   "cell_type": "code",
   "execution_count": 261,
   "metadata": {},
   "outputs": [],
   "source": [
    "#More Modelzzzzzzzzzzzzzzzzzzzzzzzzzzzzzzz"
   ]
  },
  {
   "cell_type": "code",
   "execution_count": null,
   "metadata": {},
   "outputs": [],
   "source": []
  }
 ],
 "metadata": {
  "kernelspec": {
   "display_name": "Python 3",
   "language": "python",
   "name": "python3"
  },
  "language_info": {
   "codemirror_mode": {
    "name": "ipython",
    "version": 3
   },
   "file_extension": ".py",
   "mimetype": "text/x-python",
   "name": "python",
   "nbconvert_exporter": "python",
   "pygments_lexer": "ipython3",
   "version": "3.6.5"
  }
 },
 "nbformat": 4,
 "nbformat_minor": 2
}
