{
  "cells": [
    {
      "cell_type": "code",
      "source": [
        "# Data and Stats packages\n",
        "import numpy as np\n",
        "import pandas as pd\n",
        "import re\n",
        "import statsmodels.api as sm\n",
        "from statsmodels.api import OLS\n",
        "from sklearn import metrics, datasets\n",
        "from sklearn.model_selection import train_test_split\n",
        "from sklearn.decomposition import PCA\n",
        "from sklearn.linear_model import LogisticRegression\n",
        "from sklearn.linear_model import LogisticRegressionCV\n",
        "from sklearn.discriminant_analysis import LinearDiscriminantAnalysis\n",
        "from sklearn.discriminant_analysis import QuadraticDiscriminantAnalysis\n",
        "from sklearn.preprocessing import PolynomialFeatures\n",
        "from sklearn.neighbors import KNeighborsClassifier\n",
        "from sklearn.model_selection import cross_val_score\n",
        "from sklearn.metrics import accuracy_score\n",
        "from sklearn.model_selection import KFold\n",
        "from sklearn.preprocessing import MinMaxScaler\n",
        "from sklearn.preprocessing import StandardScaler\n",
        "\n\n\n",
        "# Visualization packages\n",
        "%matplotlib inline\n",
        "import matplotlib\n",
        "import matplotlib.pyplot as plt\n",
        "import seaborn as sns\n",
        "matplotlib.rcParams['figure.figsize'] = (13.0, 6.0)\n",
        "\n",
        "# Other\n",
        "import itertools\n",
        "\n",
        "# Aesthetic settings\n",
        "from IPython.display import display\n",
        "pd.set_option('display.max_columns', 999)\n",
        "pd.set_option('display.width', 500)\n",
        "sns.set_style('whitegrid')\n",
        "sns.set_context('talk')\n",
        "\n",
        "#Suppress warnings\n",
        "import warnings\n",
        "warnings.filterwarnings('ignore')\n"
      ],
      "outputs": [],
      "execution_count": 235,
      "metadata": {}
    },
    {
      "cell_type": "code",
      "source": [
        "#import data\n",
        "df_07to11 = pd.read_csv('./Data/LoanStats3a.csv',header=1)\n",
        "df_2016Q1 = pd.read_csv('./Data/LoanStats_2016Q1.csv',header=1)\n",
        "df_2016Q2 = pd.read_csv('./Data/LoanStats_2016Q2.csv',header=1)\n",
        "df_2016Q3 = pd.read_csv('./Data/LoanStats_2016Q3.csv',header=1)\n",
        "df_2016Q4 = pd.read_csv('./Data/LoanStats_2016Q4.csv',header=1)"
      ],
      "outputs": [],
      "execution_count": 236,
      "metadata": {}
    },
    {
      "cell_type": "code",
      "source": [
        "#concat quarterly dfs for 2016\n",
        "df_16 = pd.concat([df_2016Q1,df_2016Q2,df_2016Q3,df_2016Q4])"
      ],
      "outputs": [],
      "execution_count": 237,
      "metadata": {}
    },
    {
      "cell_type": "code",
      "source": [
        "#figure out index when 2007 data begins\n",
        "not07 = True\n",
        "i = 0\n",
        "while(not07):\n",
        "    val = df_07to11['issue_d'].values[i][-2:]  \n",
        "    if val == '07':\n",
        "        print(i)\n",
        "        not07 = False\n",
        "    i+=1"
      ],
      "outputs": [
        {
          "output_type": "stream",
          "name": "stdout",
          "text": [
            "39533\n"
          ]
        }
      ],
      "execution_count": 238,
      "metadata": {}
    },
    {
      "cell_type": "code",
      "source": [
        "#drop all data points before this (2008-2011 data)\n",
        "df_07 = df_07to11.drop(np.arange(39533))"
      ],
      "outputs": [],
      "execution_count": 239,
      "metadata": {}
    },
    {
      "cell_type": "code",
      "source": [
        "#function to clean datasets\n",
        "def clean(df):\n",
        "    #initial predictor selection based on data completeness\n",
        "    preds = ['loan_status'\n",
        "         ,'loan_amnt'\n",
        "         ,'funded_amnt'\n",
        "         ,'term'\n",
        "         ,'int_rate'\n",
        "         ,'installment'\n",
        "         ,'emp_length'\n",
        "         ,'home_ownership'\n",
        "         ,'annual_inc'\n",
        "         ,'issue_d'\n",
        "         ,'zip_code'\n",
        "         ,'addr_state'\n",
        "         ,'dti'\n",
        "         ,'delinq_2yrs'\n",
        "         ,'earliest_cr_line'\n",
        "         ,'inq_last_6mths'\n",
        "         ,'mths_since_last_delinq'\n",
        "         ,'open_acc'\n",
        "         ,'pub_rec'\n",
        "         ,'revol_bal'\n",
        "         ,'revol_util'\n",
        "         ,'total_acc'\n",
        "        ]\n",
        "    \n",
        "    #getting a list of states\n",
        "    states = df['addr_state'].unique().tolist()\n",
        "    \n",
        "    df = df[preds]\n",
        "\n",
        "    #cleaning data and converting types\n",
        "    df['term'] = df['term'].str.rstrip(' months').astype('float')\n",
        "    df['int_rate'] = df['int_rate'].str.rstrip('%').astype('float') / 100.0\n",
        "    df['emp_length'] = df['emp_length'].str.strip('< + years').astype('float')\n",
        "    df['issue_d'] = pd.to_datetime(df['issue_d'])\n",
        "    df['zip_code'] = df['zip_code'].str.replace('xx','00').astype('float')\n",
        "    df['earliest_cr_line'] = pd.to_datetime(df['earliest_cr_line'])\n",
        "    df['revol_util'] = df['revol_util'].str.rstrip('%').astype('float') / 100.0\n",
        "    \n",
        "    #creating new predictor: length of credit history\n",
        "    df['length_credit_history'] = (df['issue_d']-df['earliest_cr_line']).astype('timedelta64[D]')/30.44\n",
        "    \n",
        "    #imputing missing data for months since last delinquency: filling in with length of credit history \n",
        "    df['mths_since_last_delinq'] = np.where(df['mths_since_last_delinq'].isna() , df['length_credit_history'], df['mths_since_last_delinq'])\n",
        "    \n",
        "    #one-hot encoding for housing type and state\n",
        "    df = pd.get_dummies(df, columns = ['home_ownership'] )\n",
        "    df = pd.get_dummies(df, columns = ['addr_state'] )\n",
        "\n",
        "    #cleaning up the loan statuses a bit\n",
        "    df['loan_status'] = np.where(df['loan_status'] == 'Fully Paid' , 'paid', df['loan_status'])\n",
        "    df['loan_status'] = np.where(df['loan_status'] == 'Charged Off' , 'default', df['loan_status'])\n",
        "    df['loan_status'] = np.where(df['loan_status'] == 'Does not meet the credit policy. Status:Fully Paid' , 'paid', df['loan_status'])\n",
        "    df['loan_status'] = np.where(df['loan_status'] == 'Does not meet the credit policy. Status:Charged Off' , 'default', df['loan_status'])\n",
        "    \n",
        "    preds.append('length_credit_history')\n",
        "\n",
        "    df = df.dropna()\n",
        "    return df"
      ],
      "outputs": [],
      "execution_count": 240,
      "metadata": {}
    },
    {
      "cell_type": "code",
      "source": [
        "#clean the dfs\n",
        "df_07 = clean(df_07)\n",
        "df_16 = clean(df_16)"
      ],
      "outputs": [],
      "execution_count": 241,
      "metadata": {}
    },
    {
      "cell_type": "code",
      "source": [
        "#Make Loan Status Binary --> 1 for not default, 0 for default\n",
        "df_07['loan_status'] = (pd.Series(np.where(df_07.loan_status == 'default', 0, 1), df_07.index)).values"
      ],
      "outputs": [],
      "execution_count": 242,
      "metadata": {}
    },
    {
      "cell_type": "code",
      "source": [
        "df_16['loan_status'] = (pd.Series(np.where(df_16.loan_status == 'default', 0, 1), df_16.index)).values"
      ],
      "outputs": [],
      "execution_count": 243,
      "metadata": {}
    },
    {
      "cell_type": "code",
      "source": [
        "#Remove datetime columns and interest rates\n",
        "cols_to_remove = ['int_rate', 'issue_d', 'earliest_cr_line']\n",
        "df_07 = df_07.drop(cols_to_remove, axis = 1)\n",
        "df_16 = df_16.drop(cols_to_remove, axis = 1)"
      ],
      "outputs": [],
      "execution_count": 244,
      "metadata": {}
    },
    {
      "cell_type": "code",
      "source": [
        "#Split data into train and test\n",
        "df_07_train, df_07_test = train_test_split(df_07, test_size=0.2, random_state=90)\n",
        "df_16_train, df_16_test = train_test_split(df_16, test_size=0.2, random_state=90)\n",
        "\n",
        "#Split to x and y\n",
        "df_07_X_train = df_07_train.drop(labels = 'loan_status', axis = 1)\n",
        "df_07_y_train = df_07_train.loan_status\n",
        "df_07_X_test = df_07_test.drop(labels = 'loan_status', axis = 1)\n",
        "df_07_y_test = df_07_test.loan_status\n",
        "\n",
        "df_16_X_train = df_16_train.drop(labels = 'loan_status', axis = 1)\n",
        "df_16_y_train = df_16_train.loan_status\n",
        "df_16_X_test = df_16_test.drop(labels = 'loan_status', axis = 1)\n",
        "df_16_y_test = df_16_test.loan_status"
      ],
      "outputs": [],
      "execution_count": 245,
      "metadata": {}
    },
    {
      "cell_type": "code",
      "source": [
        "#Trivial Model in which all loans are accepted\n",
        "triv_mod_07_train = np.sum(df_07_y_train)/len(df_07_y_train)\n",
        "triv_mod_07_test = np.sum(df_07_y_test)/len(df_07_y_test)\n",
        "print('2007 Data\\nTrain score: '+str(triv_mod_07_train))\n",
        "print('Test score: '+str(triv_mod_07_test))\n",
        "triv_mod_16_train = np.sum(df_16_y_train)/len(df_16_y_train)\n",
        "triv_mod_16_test = np.sum(df_16_y_test)/len(df_16_y_test)\n",
        "print('2016 Data\\nTrain score: '+str(triv_mod_16_train))\n",
        "print('Test score: '+str(triv_mod_16_test))"
      ],
      "outputs": [
        {
          "output_type": "stream",
          "name": "stdout",
          "text": [
            "2007 Data\n",
            "Train score: 0.7292912040990607\n",
            "Test score: 0.7406143344709898\n",
            "2016 Data\n",
            "Train score: 0.8649847885797337\n",
            "Test score: 0.8630602667849093\n"
          ]
        }
      ],
      "execution_count": 246,
      "metadata": {}
    },
    {
      "cell_type": "code",
      "source": [
        "#Logistiv regression on 2007 data\n",
        "log_mod07 = LogisticRegressionCV().fit(df_07_X_train, df_07_y_train.values)\n",
        "\n",
        "log_mod07_train_score = log_mod07.score(df_07_X_train,df_07_y_train.values)\n",
        "log_mod07_test_score =log_mod07.score(df_07_X_test,df_07_y_test.values)\n",
        "print(\"The accuracy of Logistic Regression Model on Training Set is \", log_mod07_train_score)\n",
        "print(\"The accuracy of Logistic Regression Model on Testing Set is \", log_mod07_test_score)"
      ],
      "outputs": [
        {
          "output_type": "stream",
          "name": "stdout",
          "text": [
            "The accuracy of Logistic Regression Model on Training Set is  0.7301451750640479\n",
            "The accuracy of Logistic Regression Model on Testing Set is  0.7406143344709898\n"
          ]
        }
      ],
      "execution_count": 260,
      "metadata": {}
    },
    {
      "cell_type": "code",
      "source": [
        "#Logistic regression on 2016 data\n",
        "log_mod16 = LogisticRegressionCV().fit(df_16_X_train, df_16_y_train.values)\n",
        "\n",
        "log_mod16_train_score = log_mod16.score(df_16_X_train, df_16_y_train.values)\n",
        "log_mod16_test_score = log_mod16.score(df_16_X_test, df_16_y_test.values)\n",
        "print(\"The accuracy of Logistic Regression Model on Training Set is \", log_mod16_train_score)\n",
        "print(\"The accuracy of Logistic Regression Model on Testing Set is \", log_mod16_test_score)"
      ],
      "outputs": [
        {
          "output_type": "stream",
          "name": "stdout",
          "text": [
            "The accuracy of Logistic Regression Model on Training Set is  0.864981709344862\n",
            "The accuracy of Logistic Regression Model on Testing Set is  0.8630479498454224\n"
          ]
        }
      ],
      "execution_count": 259,
      "metadata": {}
    },
    {
      "cell_type": "code",
      "source": [
        "#More Modelzzzzzzzzzzzzzzzzzzzzzzzzzzzzzzz"
      ],
      "outputs": [],
      "execution_count": 261,
      "metadata": {}
    },
    {
      "cell_type": "code",
      "source": [],
      "outputs": [],
      "execution_count": null,
      "metadata": {}
    }
  ],
  "metadata": {
    "kernelspec": {
      "name": "python3",
      "language": "python",
      "display_name": "Python 3"
    },
    "language_info": {
      "name": "python",
      "version": "3.6.6",
      "mimetype": "text/x-python",
      "codemirror_mode": {
        "name": "ipython",
        "version": 3
      },
      "pygments_lexer": "ipython3",
      "nbconvert_exporter": "python",
      "file_extension": ".py"
    },
    "kernel_info": {
      "name": "python3"
    },
    "nteract": {
      "version": "0.12.3"
    }
  },
  "nbformat": 4,
  "nbformat_minor": 2
}