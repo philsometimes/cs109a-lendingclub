{
 "cells": [
  {
   "cell_type": "code",
   "execution_count": 1,
   "metadata": {},
   "outputs": [],
   "source": [
    "# Data and Stats packages\n",
    "import numpy as np\n",
    "import pandas as pd\n",
    "import re\n",
    "import statsmodels.api as sm\n",
    "from statsmodels.api import OLS\n",
    "from sklearn import metrics, datasets\n",
    "from sklearn.model_selection import train_test_split\n",
    "from sklearn.decomposition import PCA\n",
    "from sklearn.linear_model import LogisticRegression\n",
    "from sklearn.tree import DecisionTreeClassifier\n",
    "from sklearn.svm import SVC\n",
    "from sklearn.linear_model import LogisticRegressionCV\n",
    "from sklearn.discriminant_analysis import LinearDiscriminantAnalysis\n",
    "from sklearn.discriminant_analysis import QuadraticDiscriminantAnalysis\n",
    "from sklearn.preprocessing import PolynomialFeatures\n",
    "from sklearn.neighbors import KNeighborsClassifier\n",
    "from sklearn.model_selection import cross_val_score\n",
    "from sklearn.metrics import accuracy_score\n",
    "from sklearn.model_selection import KFold\n",
    "from sklearn.preprocessing import MinMaxScaler\n",
    "from sklearn.preprocessing import StandardScaler\n",
    "from sklearn.ensemble import RandomForestClassifier, AdaBoostClassifier\n",
    "\n",
    "\n",
    "# Visualization packages\n",
    "%matplotlib inline\n",
    "import matplotlib\n",
    "import matplotlib.pyplot as plt\n",
    "import seaborn as sns\n",
    "matplotlib.rcParams['figure.figsize'] = (13.0, 6.0)\n",
    "\n",
    "# Other\n",
    "import itertools\n",
    "\n",
    "# Aesthetic settings\n",
    "from IPython.display import display\n",
    "pd.set_option('display.max_columns', 999)\n",
    "pd.set_option('display.width', 500)\n",
    "sns.set_style('whitegrid')\n",
    "sns.set_context('talk')\n",
    "\n",
    "#Suppress warnings\n",
    "import warnings\n",
    "warnings.filterwarnings('ignore')"
   ]
  },
  {
   "cell_type": "code",
   "execution_count": 2,
   "metadata": {},
   "outputs": [],
   "source": [
    "#import data\n",
    "df_07to11 = pd.read_csv('./data/LoanStats3a.csv',header=1)\n",
    "df_2016Q1 = pd.read_csv('./data/LoanStats_2016Q1.csv',header=1)\n",
    "df_2016Q2 = pd.read_csv('./data/LoanStats_2016Q2.csv',header=1)\n",
    "df_2016Q3 = pd.read_csv('./data/LoanStats_2016Q3.csv',header=1)\n",
    "df_2016Q4 = pd.read_csv('./data/LoanStats_2016Q4.csv',header=1)"
   ]
  },
  {
   "cell_type": "code",
   "execution_count": 3,
   "metadata": {},
   "outputs": [],
   "source": [
    "#concat quarterly dfs for 2016\n",
    "df_16 = pd.concat([df_2016Q1,df_2016Q2,df_2016Q3,df_2016Q4])"
   ]
  },
  {
   "cell_type": "code",
   "execution_count": 4,
   "metadata": {},
   "outputs": [],
   "source": [
    "#figure out index when 2007 data begins\n",
    "not07 = True\n",
    "special = 0\n",
    "i = 0\n",
    "while(not07):\n",
    "    val = df_07to11['issue_d'].values[i][-2:]  \n",
    "    if val == '07':\n",
    "        special = i\n",
    "        not07 = False\n",
    "    i+=1"
   ]
  },
  {
   "cell_type": "code",
   "execution_count": 5,
   "metadata": {},
   "outputs": [],
   "source": [
    "#drop all data points before this (2008-2011 data)\n",
    "df_07 = df_07to11.drop(np.arange(special))"
   ]
  },
  {
   "cell_type": "code",
   "execution_count": 6,
   "metadata": {},
   "outputs": [],
   "source": [
    "#function to clean datasets\n",
    "def clean(df):\n",
    "    preds = ['loan_status'\n",
    "         ,'loan_amnt'\n",
    "         ,'funded_amnt'\n",
    "         ,'term'\n",
    "         ,'int_rate'\n",
    "         ,'installment'\n",
    "         ,'emp_length'\n",
    "         ,'home_ownership'\n",
    "         ,'annual_inc'\n",
    "         ,'issue_d'\n",
    "         ,'zip_code'\n",
    "         ,'addr_state'\n",
    "         ,'dti'\n",
    "         ,'delinq_2yrs'\n",
    "         ,'earliest_cr_line'\n",
    "         ,'inq_last_6mths'\n",
    "         ,'mths_since_last_delinq'\n",
    "         ,'open_acc'\n",
    "         ,'pub_rec'\n",
    "         ,'revol_bal'\n",
    "         ,'revol_util'\n",
    "         ,'total_acc'\n",
    "        ]\n",
    "\n",
    "    states = df['addr_state'].unique().tolist()\n",
    "    \n",
    "    df = df[preds]\n",
    "\n",
    "    df['term'] = df['term'].str.rstrip(' months').astype('float')\n",
    "    df['int_rate'] = df['int_rate'].str.rstrip('%').astype('float') / 100.0\n",
    "    df['emp_length'] = df['emp_length'].str.strip('< + years').astype('float')\n",
    "    df['issue_d'] = pd.to_datetime(df['issue_d'])\n",
    "    df['zip_code'] = df['zip_code'].str.replace('xx','00').astype('float')\n",
    "    df['earliest_cr_line'] = pd.to_datetime(df['earliest_cr_line'])\n",
    "    \n",
    "    df['length_credit_history'] = (df['issue_d']-df['earliest_cr_line']).astype('timedelta64[D]')/30.44\n",
    "    df['mths_since_last_delinq'] = np.where(df['mths_since_last_delinq'].isna() , df['length_credit_history'], df['mths_since_last_delinq'])\n",
    "    df['revol_util'] = df['revol_util'].str.rstrip('%').astype('float') / 100.0\n",
    "    df = pd.get_dummies(df, columns = ['home_ownership'] )\n",
    "    df = pd.get_dummies(df, columns = ['addr_state'] )\n",
    "\n",
    "    df['loan_status'] = np.where(df['loan_status'] == 'Fully Paid' , 'paid', df['loan_status'])\n",
    "    df['loan_status'] = np.where(df['loan_status'] == 'Charged Off' , 'default', df['loan_status'])\n",
    "    df['loan_status'] = np.where(df['loan_status'] == 'Does not meet the credit policy. Status:Fully Paid' , 'paid', df['loan_status'])\n",
    "    df['loan_status'] = np.where(df['loan_status'] == 'Does not meet the credit policy. Status:Charged Off' , 'default', df['loan_status'])\n",
    "    \n",
    "    preds.append('length_credit_history')\n",
    "\n",
    "    df = df.dropna()\n",
    "    return df"
   ]
  },
  {
   "cell_type": "code",
   "execution_count": 7,
   "metadata": {},
   "outputs": [],
   "source": [
    "#clean the dfs\n",
    "df_07 = clean(df_07)\n",
    "df_16 = clean(df_16)"
   ]
  },
  {
   "cell_type": "code",
   "execution_count": 8,
   "metadata": {},
   "outputs": [],
   "source": [
    "paid07 = df_07[df_07['loan_status'] == 'paid']\n",
    "default07 = df_07[df_07['loan_status'] == 'default']"
   ]
  },
  {
   "cell_type": "code",
   "execution_count": 9,
   "metadata": {},
   "outputs": [],
   "source": [
    "paid16 = df_16[df_16['loan_status'] == 'paid']\n",
    "default16 = df_16[df_16['loan_status'] == 'default']"
   ]
  },
  {
   "cell_type": "code",
   "execution_count": 10,
   "metadata": {},
   "outputs": [
    {
     "name": "stdout",
     "output_type": "stream",
     "text": [
      "paid 2142\n",
      "default 786\n",
      "total = 2928\n"
     ]
    }
   ],
   "source": [
    "print('paid ' + str(paid07.shape[0]))\n",
    "print('default ' + str(default07.shape[0]))\n",
    "print('total = ' + str(paid07.shape[0] + default07.shape[0]))"
   ]
  },
  {
   "cell_type": "code",
   "execution_count": 11,
   "metadata": {},
   "outputs": [
    {
     "name": "stdout",
     "output_type": "stream",
     "text": [
      "paid 167651\n",
      "default 55760\n",
      "total = 223411\n"
     ]
    }
   ],
   "source": [
    "print('paid ' + str(paid16.shape[0]))\n",
    "print('default ' + str(default16.shape[0]))\n",
    "print('total = ' + str(paid16.shape[0] + default16.shape[0]))"
   ]
  },
  {
   "cell_type": "code",
   "execution_count": 12,
   "metadata": {},
   "outputs": [],
   "source": [
    "df2016 = pd.concat([paid16, default16])\n",
    "df2007 = pd.concat([paid07, default07])"
   ]
  },
  {
   "cell_type": "code",
   "execution_count": 13,
   "metadata": {},
   "outputs": [],
   "source": [
    "df2007['loan_status'] = np.where(df2007['loan_status'] == 'paid' , 1, 0)"
   ]
  },
  {
   "cell_type": "code",
   "execution_count": 14,
   "metadata": {},
   "outputs": [],
   "source": [
    "df2016['loan_status'] = np.where(df2016['loan_status'] == 'paid' , 1, 0)"
   ]
  },
  {
   "cell_type": "code",
   "execution_count": 15,
   "metadata": {},
   "outputs": [],
   "source": [
    "df_07 = pd.DataFrame(df2007)\n",
    "df_16 = pd.DataFrame(df2016)"
   ]
  },
  {
   "cell_type": "code",
   "execution_count": 16,
   "metadata": {},
   "outputs": [],
   "source": [
    "#Remove datetime columns and interest rates\n",
    "cols_to_remove = ['int_rate', 'issue_d', 'earliest_cr_line', 'zip_code', 'term', 'funded_amnt']\n",
    "df_07 = df_07.drop(cols_to_remove, axis = 1)\n",
    "df_16 = df_16.drop(cols_to_remove, axis = 1)"
   ]
  },
  {
   "cell_type": "code",
   "execution_count": 17,
   "metadata": {},
   "outputs": [],
   "source": [
    "# Normalize Data\n",
    "to_norm = ['loan_amnt', 'installment', 'emp_length', 'annual_inc', 'dti', 'delinq_2yrs',\n",
    "          'inq_last_6mths', 'mths_since_last_delinq', 'open_acc', 'pub_rec', 'revol_bal', 'revol_util',\n",
    "          'total_acc','length_credit_history']"
   ]
  },
  {
   "cell_type": "code",
   "execution_count": 18,
   "metadata": {},
   "outputs": [],
   "source": [
    "from scipy.stats import zscore\n",
    "def norm(df, cols):\n",
    "    for e in cols:\n",
    "        df[e] = zscore(df[e])\n",
    "    return df"
   ]
  },
  {
   "cell_type": "code",
   "execution_count": 19,
   "metadata": {},
   "outputs": [],
   "source": [
    "df_07 = norm(df_07, to_norm)\n",
    "df_16 = norm(df_16, to_norm)"
   ]
  },
  {
   "cell_type": "code",
   "execution_count": 20,
   "metadata": {},
   "outputs": [],
   "source": [
    "#Split data into train and test\n",
    "df_07_train, df_07_test = train_test_split(df_07, test_size=0.2, random_state=90)\n",
    "df_16_train, df_16_test = train_test_split(df_16, test_size=0.2, random_state=90)\n",
    "\n",
    "#Split to x and y\n",
    "df_07_X_train = df_07_train.drop(labels = 'loan_status', axis = 1)\n",
    "df_07_y_train = df_07_train.loan_status\n",
    "df_07_X_test = df_07_test.drop(labels = 'loan_status', axis = 1)\n",
    "df_07_y_test = df_07_test.loan_status\n",
    "\n",
    "df_16_X_train = df_16_train.drop(labels = 'loan_status', axis = 1)\n",
    "df_16_y_train = df_16_train.loan_status\n",
    "df_16_X_test = df_16_test.drop(labels = 'loan_status', axis = 1)\n",
    "df_16_y_test = df_16_test.loan_status"
   ]
  },
  {
   "cell_type": "markdown",
   "metadata": {},
   "source": [
    "*** Trivial Model ***\n",
    "\n",
    "We implemented a trivial model that always predicts a given person will repay their loan. It is worth noting that this model is representative of Lending Club's prediction. Since we only have access to accepted loan data, Lending Club is inherently predicting that a loan will be repayed because they wouldn't give a loan that they expected not to be repayed."
   ]
  },
  {
   "cell_type": "code",
   "execution_count": 21,
   "metadata": {},
   "outputs": [
    {
     "name": "stdout",
     "output_type": "stream",
     "text": [
      "2007 Data\n",
      "Train score: 0.7297181895815542\n",
      "Test score: 0.7389078498293515\n",
      "2016 Data\n",
      "Train score: 0.7504867731972606\n",
      "Test score: 0.750128684287089\n"
     ]
    }
   ],
   "source": [
    "#Trivial Model in which all loans are accepted\n",
    "triv_mod_07_train = np.sum(df_07_y_train)/len(df_07_y_train)\n",
    "triv_mod_07_test = np.sum(df_07_y_test)/len(df_07_y_test)\n",
    "print('2007 Data\\nTrain score: '+str(triv_mod_07_train))\n",
    "print('Test score: '+str(triv_mod_07_test))\n",
    "triv_mod_16_train = np.sum(df_16_y_train)/len(df_16_y_train)\n",
    "triv_mod_16_test = np.sum(df_16_y_test)/len(df_16_y_test)\n",
    "print('2016 Data\\nTrain score: '+str(triv_mod_16_train))\n",
    "print('Test score: '+str(triv_mod_16_test))"
   ]
  },
  {
   "cell_type": "markdown",
   "metadata": {},
   "source": [
    "*** Logistic Regression Model ***\n",
    "\n",
    "The first model we chose is a simple logistic regression with cross validation. We trained it on the training set and printed the scores on both the training and test data sets. The test accuracy was 0.737 which is just below our trivial model's score- meaning it performs moderately worse than Lending Club's algorithm."
   ]
  },
  {
   "cell_type": "code",
   "execution_count": 22,
   "metadata": {},
   "outputs": [
    {
     "name": "stdout",
     "output_type": "stream",
     "text": [
      "The accuracy of Logistic Regression Model on 2007 Training Set is  0.7292912040990607\n",
      "The accuracy of Logistic Regression Model on 2007 Testing Set is  0.7372013651877133\n"
     ]
    }
   ],
   "source": [
    "#Logistic regression on 2007 data\n",
    "log_mod07 = LogisticRegressionCV().fit(df_07_X_train, df_07_y_train.values)\n",
    "\n",
    "log_mod07_train_score = log_mod07.score(df_07_X_train,df_07_y_train.values)\n",
    "log_mod07_test_score =log_mod07.score(df_07_X_test,df_07_y_test.values)\n",
    "print(\"The accuracy of Logistic Regression Model on 2007 Training Set is \", log_mod07_train_score)\n",
    "print(\"The accuracy of Logistic Regression Model on 2007 Testing Set is \", log_mod07_test_score)"
   ]
  },
  {
   "cell_type": "code",
   "execution_count": 23,
   "metadata": {},
   "outputs": [
    {
     "name": "stdout",
     "output_type": "stream",
     "text": [
      "The accuracy of Logistic Regression Model on 2016 Training Set is  0.7518407859988362\n",
      "The accuracy of Logistic Regression Model on 2016 Testing Set is  0.7517400353602041\n"
     ]
    }
   ],
   "source": [
    "#Logistic regression on 2016 data\n",
    "log_mod16 = LogisticRegressionCV().fit(df_16_X_train, df_16_y_train.values)\n",
    "\n",
    "log_mod16_train_score = log_mod16.score(df_16_X_train, df_16_y_train.values)\n",
    "log_mod16_test_score = log_mod16.score(df_16_X_test, df_16_y_test.values)\n",
    "print(\"The accuracy of Logistic Regression Model on 2016 Training Set is \", log_mod16_train_score)\n",
    "print(\"The accuracy of Logistic Regression Model on 2016 Testing Set is \", log_mod16_test_score)"
   ]
  },
  {
   "cell_type": "markdown",
   "metadata": {},
   "source": [
    "*** Decision Tree Model ***\n",
    "\n",
    "To create a Decision Tree model, we began by optimizing the tree depth. Our optimal depth was found to be max_depth =i. Depths past i appeared to be overfit, yielding great train accuracies, and poor test accuracies. We then ran the model on both 2007 and 2016 data. The model yielded comparable accuracies to that of Lending Club's."
   ]
  },
  {
   "cell_type": "code",
   "execution_count": 24,
   "metadata": {},
   "outputs": [],
   "source": [
    "# Get train score, cross val score means and stds\n",
    "train_scores = []\n",
    "cvmeans = []\n",
    "cvstds = []\n",
    "depths = list(range(1, 15))\n",
    "#for all specified maximum tree depths --> fit model and add scores to list\n",
    "for i in depths:\n",
    "    #create/fit model\n",
    "    tree = DecisionTreeClassifier(max_depth = i).fit(df_07_X_train, df_07_y_train.values) \n",
    "    train_scores.append(tree.score(df_07_X_train, df_07_y_train.values))\n",
    "    score = cross_val_score(estimator=tree, X=df_07_X_train, y=df_07_y_train.values, cv=5)\n",
    "    cvmeans.append(score.mean())\n",
    "    cvstds.append(score.std())\n",
    "    \n",
    "cvstds = np.array(cvstds)\n",
    "cvmeans = np.array(cvmeans)"
   ]
  },
  {
   "cell_type": "code",
   "execution_count": 25,
   "metadata": {},
   "outputs": [
    {
     "data": {
      "image/png": "[encoded data removed]",
      "text/plain": [
       "<Figure size 432x288 with 1 Axes>"
      ]
     },
     "metadata": {},
     "output_type": "display_data"
    }
   ],
   "source": [
    "#create plot\n",
    "plt.plot(depths, cvmeans, label=\"Mean Cross Val\")\n",
    "plt.fill_between(depths, cvmeans - 2*cvstds, cvmeans + 2*cvstds, alpha=0.5)\n",
    "ylim = plt.ylim()\n",
    "plt.plot(depths, train_scores, '-+', label=\"Train\")\n",
    "plt.legend()\n",
    "plt.ylabel(\"Accuracy\")\n",
    "plt.xlabel(\"Max Depth\")\n",
    "plt.xticks(depths)\n",
    "plt.title(\"Cross Val Score and Train Score vs Depth\");"
   ]
  },
  {
   "cell_type": "code",
   "execution_count": 26,
   "metadata": {},
   "outputs": [
    {
     "name": "stdout",
     "output_type": "stream",
     "text": [
      "The accuracy of Tree Model on 2007 Training Set is  0.7399658411614005\n",
      "The accuracy of Tree Model on 2007 Testing Set is  0.7320819112627986\n"
     ]
    }
   ],
   "source": [
    "# tree model for 2007 data\n",
    "tree07 = DecisionTreeClassifier(max_depth = 4).fit(df_07_X_train, df_07_y_train.values)\n",
    "\n",
    "tree07_train_score = tree07.score(df_07_X_train, df_07_y_train.values)\n",
    "tree07_test_score = tree07.score(df_07_X_test, df_07_y_test.values)\n",
    "\n",
    "print(\"The accuracy of Tree Model on 2007 Training Set is \", tree07_train_score)\n",
    "print(\"The accuracy of Tree Model on 2007 Testing Set is \", tree07_test_score)"
   ]
  },
  {
   "cell_type": "code",
   "execution_count": 27,
   "metadata": {},
   "outputs": [
    {
     "name": "stdout",
     "output_type": "stream",
     "text": [
      "The accuracy of Tree Model on 2016 Training Set is  0.7504867731972606\n",
      "The accuracy of Tree Model on 2016 Testing Set is  0.750128684287089\n"
     ]
    }
   ],
   "source": [
    "# tree model for 2016 data\n",
    "tree16 = DecisionTreeClassifier(max_depth = 4).fit(df_16_X_train, df_16_y_train.values)\n",
    "\n",
    "tree16_train_score = tree16.score(df_16_X_train, df_16_y_train.values)\n",
    "tree16_test_score = tree16.score(df_16_X_test, df_16_y_test.values)\n",
    "\n",
    "print(\"The accuracy of Tree Model on 2016 Training Set is \", tree16_train_score)\n",
    "print(\"The accuracy of Tree Model on 2016 Testing Set is \", tree16_test_score)"
   ]
  },
  {
   "cell_type": "markdown",
   "metadata": {},
   "source": [
    "*** Random Forest Model ***\n",
    "\n",
    "Next we wanted to create an ensemble model, building off our decision tree model. We stuck with our best max depth of 6, and chose to use 45 trees because it provided solid accuracy, without being too computationally expensive. Our model, again, yielded comparable results ot that of Lending Club."
   ]
  },
  {
   "cell_type": "code",
   "execution_count": 28,
   "metadata": {},
   "outputs": [
    {
     "name": "stdout",
     "output_type": "stream",
     "text": [
      "The accuracy of Random Forest Model on 2007 Training Set is  0.7314261315115286\n",
      "The accuracy of Random Forest Model on 2007 Testing Set is  0.7389078498293515\n"
     ]
    }
   ],
   "source": [
    "randy07 = RandomForestClassifier(n_estimators = 45, max_depth = 6).fit(df_07_X_train, df_07_y_train.values)\n",
    "randy07_train_score = randy07.score(df_07_X_train, df_07_y_train.values)\n",
    "randy07_test_score = randy07.score(df_07_X_test, df_07_y_test.values)\n",
    "print(\"The accuracy of Random Forest Model on 2007 Training Set is \", randy07_train_score)\n",
    "print(\"The accuracy of Random Forest Model on 2007 Testing Set is \", randy07_test_score)"
   ]
  },
  {
   "cell_type": "code",
   "execution_count": 29,
   "metadata": {},
   "outputs": [
    {
     "name": "stdout",
     "output_type": "stream",
     "text": [
      "The accuracy of Random Forest Model on 2016 Training Set is  0.7504867731972606\n",
      "The accuracy of Random Forest Model on 2016 Testing Set is  0.750128684287089\n"
     ]
    }
   ],
   "source": [
    "randy16 = RandomForestClassifier(n_estimators = 45, max_depth = 6).fit(df_16_X_train, df_16_y_train.values)\n",
    "randy16_train_score = randy16.score(df_16_X_train, df_16_y_train.values)\n",
    "randy16_test_score = randy16.score(df_16_X_test, df_16_y_test.values)\n",
    "print(\"The accuracy of Random Forest Model on 2016 Training Set is \", randy16_train_score)\n",
    "print(\"The accuracy of Random Forest Model on 2016 Testing Set is \", randy16_test_score)"
   ]
  },
  {
   "cell_type": "markdown",
   "metadata": {},
   "source": [
    "*** AdaBoost Model ***\n",
    "\n",
    "Finally we used an AdaBoost model. This meta estimator fits a decision tree classifier on our training set, then fits additional copies of the model on the same training set, but adjusts weights such that subsequent classifiers focus on challenging cases. For the 2016 dataset, we had to reduce the max depth and estimators to limit the computational time of the model. Both models delivered comparable accuracies to that of Lending Club's model."
   ]
  },
  {
   "cell_type": "code",
   "execution_count": 30,
   "metadata": {},
   "outputs": [
    {
     "name": "stdout",
     "output_type": "stream",
     "text": [
      "The accuracy of Ada Boost Model on 2007 Training Set is  1.0\n",
      "The accuracy of Ada Boost Model on 2007 Testing Set is  0.7303754266211604\n"
     ]
    }
   ],
   "source": [
    "ada07 = AdaBoostClassifier(base_estimator=DecisionTreeClassifier(max_depth=6), n_estimators=800, learning_rate=0.05).fit(df_07_X_train, df_07_y_train.values)\n",
    "ada07_train_score = ada07.score(df_07_X_train, df_07_y_train.values)\n",
    "ada07_test_score = ada07.score(df_07_X_test, df_07_y_test.values)\n",
    "print(\"The accuracy of Ada Boost Model on 2007 Training Set is \", ada07_train_score)\n",
    "print(\"The accuracy of Ada Boost Model on 2007 Testing Set is \", ada07_test_score)"
   ]
  },
  {
   "cell_type": "code",
   "execution_count": 31,
   "metadata": {},
   "outputs": [
    {
     "name": "stdout",
     "output_type": "stream",
     "text": [
      "The accuracy of Ada Boost Model on 2016 Training Set is  0.7506881965892306\n",
      "The accuracy of Ada Boost Model on 2016 Testing Set is  0.7503972427992749\n"
     ]
    }
   ],
   "source": [
    "# Takes a while to run\n",
    "ada16 = AdaBoostClassifier(base_estimator=DecisionTreeClassifier(max_depth=3), n_estimators=80, learning_rate=0.05).fit(df_16_X_train, df_16_y_train.values)\n",
    "ada16_train_score = ada16.score(df_16_X_train, df_16_y_train.values)\n",
    "ada16_test_score = ada16.score(df_16_X_test, df_16_y_test.values)\n",
    "print(\"The accuracy of Ada Boost Model on 2016 Training Set is \", ada16_train_score)\n",
    "print(\"The accuracy of Ada Boost Model on 2016 Testing Set is \", ada16_test_score)"
   ]
  },
  {
   "cell_type": "markdown",
   "metadata": {},
   "source": [
    "*** LDA Model ***\n",
    "\n",
    "Finally, we chose to use linear discriminant analysis. Unsurprisingly, our LDA models performed similarly to the trivial models."
   ]
  },
  {
   "cell_type": "code",
   "execution_count": 32,
   "metadata": {},
   "outputs": [
    {
     "name": "stdout",
     "output_type": "stream",
     "text": [
      "The accuracy of LDA Model on 2007 Training Set is  0.7361229718189581\n",
      "The accuracy of LDA Model on 2007 Testing Set is  0.7235494880546075\n"
     ]
    }
   ],
   "source": [
    "#Build an LDA Model and report train and test accuracy\n",
    "lda07 = LinearDiscriminantAnalysis().fit(df_07_X_train, df_07_y_train.values)\n",
    "lda07_train_score = lda07.score(df_07_X_train, df_07_y_train.values)\n",
    "lda07_test_score = lda07.score(df_07_X_test, df_07_y_test.values)\n",
    "print(\"The accuracy of LDA Model on 2007 Training Set is \", lda07_train_score)\n",
    "print(\"The accuracy of LDA Model on 2007 Testing Set is \", lda07_test_score)"
   ]
  },
  {
   "cell_type": "code",
   "execution_count": 33,
   "metadata": {},
   "outputs": [
    {
     "name": "stdout",
     "output_type": "stream",
     "text": [
      "The accuracy of LDA Model on 2016 Training Set is  0.751605792041538\n",
      "The accuracy of LDA Model on 2016 Testing Set is  0.7517624152362196\n"
     ]
    }
   ],
   "source": [
    "#Build an LDA Model and report train and test accuracy\n",
    "lda16 = LinearDiscriminantAnalysis().fit(df_16_X_train, df_16_y_train.values)\n",
    "lda16_train_score = lda16.score(df_16_X_train, df_16_y_train.values)\n",
    "lda16_test_score = lda16.score(df_16_X_test, df_16_y_test.values)\n",
    "print(\"The accuracy of LDA Model on 2016 Training Set is \", lda16_train_score)\n",
    "print(\"The accuracy of LDA Model on 2016 Testing Set is \", lda16_test_score)"
   ]
  },
  {
   "cell_type": "markdown",
   "metadata": {},
   "source": [
    "*** QDA Model ***\n",
    "\n",
    "We were suprises that this model performs extremely poorly. It assumes gaussian distribution and differing covariance, which seemingly contibutes to its poor performance with these datasets."
   ]
  },
  {
   "cell_type": "code",
   "execution_count": 34,
   "metadata": {},
   "outputs": [
    {
     "name": "stdout",
     "output_type": "stream",
     "text": [
      "The accuracy of QDA Model on Training Set is  0.29035012809564475\n",
      "The accuracy of QDA Model on Testing Set is  0.26109215017064846\n"
     ]
    }
   ],
   "source": [
    "qda07 = QuadraticDiscriminantAnalysis().fit(df_07_X_train, df_07_y_train.values)\n",
    "\n",
    "qda07_train_score = qda07.score(df_07_X_train, df_07_y_train.values)\n",
    "qda07_test_score = qda07.score(df_07_X_test, df_07_y_test.values)\n",
    "\n",
    "print(\"The accuracy of QDA Model on Training Set is \", qda07_train_score)\n",
    "print(\"The accuracy of QDA Model on Testing Set is \", qda07_test_score)"
   ]
  },
  {
   "cell_type": "code",
   "execution_count": 35,
   "metadata": {},
   "outputs": [
    {
     "name": "stdout",
     "output_type": "stream",
     "text": [
      "The accuracy of QDA Model on Training Set is  0.4173940289154469\n",
      "The accuracy of QDA Model on Testing Set is  0.41232683570933015\n"
     ]
    }
   ],
   "source": [
    "qda16 = QuadraticDiscriminantAnalysis().fit(df_16_X_train, df_16_y_train.values)\n",
    "\n",
    "qda16_train_score = qda16.score(df_16_X_train, df_16_y_train.values)\n",
    "qda16_test_score = qda16.score(df_16_X_test, df_16_y_test.values)\n",
    "\n",
    "print(\"The accuracy of QDA Model on Training Set is \", qda16_train_score)\n",
    "print(\"The accuracy of QDA Model on Testing Set is \", qda16_test_score)"
   ]
  }
 ],
 "metadata": {
  "kernelspec": {
   "display_name": "Python 3",
   "language": "python",
   "name": "python3"
  },
  "language_info": {
   "codemirror_mode": {
    "name": "ipython",
    "version": 3
   },
   "file_extension": ".py",
   "mimetype": "text/x-python",
   "name": "python",
   "nbconvert_exporter": "python",
   "pygments_lexer": "ipython3",
   "version": "3.6.5"
  }
 },
 "nbformat": 4,
 "nbformat_minor": 2
}
