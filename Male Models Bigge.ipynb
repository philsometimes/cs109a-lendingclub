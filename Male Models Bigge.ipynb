{
 "cells": [
  {
   "cell_type": "code",
   "execution_count": 1,
   "metadata": {},
   "outputs": [],
   "source": [
    "# Data and Stats packages\n",
    "import numpy as np\n",
    "import pandas as pd\n",
    "import re\n",
    "import statsmodels.api as sm\n",
    "from statsmodels.api import OLS\n",
    "from sklearn import metrics, datasets\n",
    "from sklearn.model_selection import train_test_split\n",
    "from sklearn.decomposition import PCA\n",
    "from sklearn.linear_model import LogisticRegression\n",
    "from sklearn.tree import DecisionTreeClassifier\n",
    "from sklearn.svm import SVC\n",
    "from sklearn.linear_model import LogisticRegressionCV\n",
    "from sklearn.discriminant_analysis import LinearDiscriminantAnalysis\n",
    "from sklearn.discriminant_analysis import QuadraticDiscriminantAnalysis\n",
    "from sklearn.preprocessing import PolynomialFeatures\n",
    "from sklearn.neighbors import KNeighborsClassifier\n",
    "from sklearn.model_selection import cross_val_score\n",
    "from sklearn.metrics import accuracy_score\n",
    "from sklearn.model_selection import KFold\n",
    "from sklearn.preprocessing import MinMaxScaler\n",
    "from sklearn.preprocessing import StandardScaler\n",
    "from sklearn.ensemble import RandomForestClassifier, AdaBoostClassifier\n",
    "\n",
    "\n",
    "# Visualization packages\n",
    "%matplotlib inline\n",
    "import matplotlib\n",
    "import matplotlib.pyplot as plt\n",
    "import seaborn as sns\n",
    "matplotlib.rcParams['figure.figsize'] = (13.0, 6.0)\n",
    "\n",
    "# Other\n",
    "import itertools\n",
    "\n",
    "# Aesthetic settings\n",
    "from IPython.display import display\n",
    "pd.set_option('display.max_columns', 999)\n",
    "pd.set_option('display.width', 500)\n",
    "sns.set_style('whitegrid')\n",
    "sns.set_context('talk')\n",
    "\n",
    "#Suppress warnings\n",
    "import warnings\n",
    "warnings.filterwarnings('ignore')"
   ]
  },
  {
   "cell_type": "code",
   "execution_count": 2,
   "metadata": {},
   "outputs": [],
   "source": [
    "#import data\n",
    "df_07to11 = pd.read_csv('./data/LoanStats3a.csv',header=1)\n",
    "df_2016Q1 = pd.read_csv('./data/LoanStats_2016Q1.csv',header=1)\n",
    "df_2016Q2 = pd.read_csv('./data/LoanStats_2016Q2.csv',header=1)\n",
    "df_2016Q3 = pd.read_csv('./data/LoanStats_2016Q3.csv',header=1)\n",
    "df_2016Q4 = pd.read_csv('./data/LoanStats_2016Q4.csv',header=1)"
   ]
  },
  {
   "cell_type": "code",
   "execution_count": 3,
   "metadata": {},
   "outputs": [],
   "source": [
    "#concat quarterly dfs for 2016\n",
    "df_16 = pd.concat([df_2016Q1,df_2016Q2,df_2016Q3,df_2016Q4])"
   ]
  },
  {
   "cell_type": "code",
   "execution_count": 4,
   "metadata": {},
   "outputs": [
    {
     "name": "stdout",
     "output_type": "stream",
     "text": [
      "39533\n"
     ]
    }
   ],
   "source": [
    "#figure out index when 2007 data begins\n",
    "not07 = True\n",
    "i = 0\n",
    "while(not07):\n",
    "    val = df_07to11['issue_d'].values[i][-2:]  \n",
    "    if val == '07':\n",
    "        print(i)\n",
    "        not07 = False\n",
    "    i+=1"
   ]
  },
  {
   "cell_type": "code",
   "execution_count": 5,
   "metadata": {},
   "outputs": [
    {
     "data": {
      "text/plain": [
       "(434415, 145)"
      ]
     },
     "execution_count": 5,
     "metadata": {},
     "output_type": "execute_result"
    }
   ],
   "source": [
    "df_16.shape"
   ]
  },
  {
   "cell_type": "code",
   "execution_count": 6,
   "metadata": {},
   "outputs": [],
   "source": [
    "#drop all data points before this (2008-2011 data)\n",
    "df_07 = df_07to11.drop(np.arange(39533))"
   ]
  },
  {
   "cell_type": "code",
   "execution_count": 7,
   "metadata": {},
   "outputs": [],
   "source": [
    "#function to clean datasets\n",
    "def clean(df):\n",
    "    preds = ['loan_status'\n",
    "         ,'loan_amnt'\n",
    "         ,'funded_amnt'\n",
    "         ,'term'\n",
    "         ,'int_rate'\n",
    "         ,'installment'\n",
    "         ,'emp_length'\n",
    "         ,'home_ownership'\n",
    "         ,'annual_inc'\n",
    "         ,'issue_d'\n",
    "         ,'zip_code'\n",
    "         ,'addr_state'\n",
    "         ,'dti'\n",
    "         ,'delinq_2yrs'\n",
    "         ,'earliest_cr_line'\n",
    "         ,'inq_last_6mths'\n",
    "         ,'mths_since_last_delinq'\n",
    "         ,'open_acc'\n",
    "         ,'pub_rec'\n",
    "         ,'revol_bal'\n",
    "         ,'revol_util'\n",
    "         ,'total_acc'\n",
    "        ]\n",
    "\n",
    "    states = df['addr_state'].unique().tolist()\n",
    "    \n",
    "    df = df[preds]\n",
    "\n",
    "    df['term'] = df['term'].str.rstrip(' months').astype('float')\n",
    "    df['int_rate'] = df['int_rate'].str.rstrip('%').astype('float') / 100.0\n",
    "    df['emp_length'] = df['emp_length'].str.strip('< + years').astype('float')\n",
    "    df['issue_d'] = pd.to_datetime(df['issue_d'])\n",
    "    df['zip_code'] = df['zip_code'].str.replace('xx','00').astype('float')\n",
    "    df['earliest_cr_line'] = pd.to_datetime(df['earliest_cr_line'])\n",
    "    \n",
    "    df['length_credit_history'] = (df['issue_d']-df['earliest_cr_line']).astype('timedelta64[D]')/30.44\n",
    "    df['mths_since_last_delinq'] = np.where(df['mths_since_last_delinq'].isna() , df['length_credit_history'], df['mths_since_last_delinq'])\n",
    "    df['revol_util'] = df['revol_util'].str.rstrip('%').astype('float') / 100.0\n",
    "    df = pd.get_dummies(df, columns = ['home_ownership'] )\n",
    "    df = pd.get_dummies(df, columns = ['addr_state'] )\n",
    "\n",
    "    df['loan_status'] = np.where(df['loan_status'] == 'Fully Paid' , 'paid', df['loan_status'])\n",
    "    df['loan_status'] = np.where(df['loan_status'] == 'Charged Off' , 'default', df['loan_status'])\n",
    "    df['loan_status'] = np.where(df['loan_status'] == 'Does not meet the credit policy. Status:Fully Paid' , 'paid', df['loan_status'])\n",
    "    df['loan_status'] = np.where(df['loan_status'] == 'Does not meet the credit policy. Status:Charged Off' , 'default', df['loan_status'])\n",
    "    \n",
    "    preds.append('length_credit_history')\n",
    "\n",
    "    df = df.dropna()\n",
    "    return df"
   ]
  },
  {
   "cell_type": "code",
   "execution_count": 8,
   "metadata": {},
   "outputs": [],
   "source": [
    "#clean the dfs\n",
    "df_07 = clean(df_07)\n",
    "df_16 = clean(df_16)"
   ]
  },
  {
   "cell_type": "code",
   "execution_count": 9,
   "metadata": {},
   "outputs": [
    {
     "data": {
      "text/plain": [
       "(405945, 75)"
      ]
     },
     "execution_count": 9,
     "metadata": {},
     "output_type": "execute_result"
    }
   ],
   "source": [
    "df_16.shape"
   ]
  },
  {
   "cell_type": "code",
   "execution_count": 15,
   "metadata": {},
   "outputs": [],
   "source": [
    "paid07 = df_07[df_07['loan_status'] == 'paid']"
   ]
  },
  {
   "cell_type": "code",
   "execution_count": 18,
   "metadata": {},
   "outputs": [],
   "source": [
    "default07 = df_07[df_07['loan_status'] == 'default']"
   ]
  },
  {
   "cell_type": "code",
   "execution_count": 22,
   "metadata": {},
   "outputs": [],
   "source": [
    "paid16 = df_16[df_16['loan_status'] == 'paid']\n",
    "default16 = df_16[df_16['loan_status'] == 'default']"
   ]
  },
  {
   "cell_type": "code",
   "execution_count": 21,
   "metadata": {},
   "outputs": [
    {
     "name": "stdout",
     "output_type": "stream",
     "text": [
      "paid 2142\n",
      "default 786\n",
      "total = 2928\n"
     ]
    }
   ],
   "source": [
    "print('paid ' + str(paid07.shape[0]))\n",
    "print('default ' + str(default07.shape[0]))\n",
    "print('total = ' + str(paid07.shape[0] + default07.shape[0]))"
   ]
  },
  {
   "cell_type": "code",
   "execution_count": 23,
   "metadata": {},
   "outputs": [
    {
     "name": "stdout",
     "output_type": "stream",
     "text": [
      "paid 167651\n",
      "default 55760\n",
      "total = 223411\n"
     ]
    }
   ],
   "source": [
    "print('paid ' + str(paid16.shape[0]))\n",
    "print('default ' + str(default16.shape[0]))\n",
    "print('total = ' + str(paid16.shape[0] + default16.shape[0]))"
   ]
  },
  {
   "cell_type": "code",
   "execution_count": 24,
   "metadata": {},
   "outputs": [],
   "source": [
    "df2016 = pd.concat([paid16, default16])\n",
    "df2007 = pd.concat([paid07, default07])"
   ]
  },
  {
   "cell_type": "code",
   "execution_count": 33,
   "metadata": {},
   "outputs": [],
   "source": [
    "df2007['loan_status'] = np.where(df2007['loan_status'] == 'paid' , 1, 0)"
   ]
  },
  {
   "cell_type": "code",
   "execution_count": 35,
   "metadata": {},
   "outputs": [],
   "source": [
    "df2016['loan_status'] = np.where(df2016['loan_status'] == 'paid' , 1, 0)"
   ]
  },
  {
   "cell_type": "code",
   "execution_count": 39,
   "metadata": {},
   "outputs": [],
   "source": [
    "df_07 = pd.DataFrame(df2007)\n",
    "df_16 = pd.DataFrame(df2016)"
   ]
  },
  {
   "cell_type": "code",
   "execution_count": 40,
   "metadata": {},
   "outputs": [],
   "source": [
    "#Remove datetime columns and interest rates\n",
    "# Maybe we should remove other columns as well\n",
    "cols_to_remove = ['int_rate', 'issue_d', 'earliest_cr_line']\n",
    "df_07 = df_07.drop(cols_to_remove, axis = 1)\n",
    "df_16 = df_16.drop(cols_to_remove, axis = 1)"
   ]
  },
  {
   "cell_type": "code",
   "execution_count": 53,
   "metadata": {},
   "outputs": [],
   "source": [
    "# Normalize Data\n",
    "to_norm = ['loan_amnt', 'term', 'funded_amnt', 'installment', 'emp_length', 'annual_inc', 'dti', 'delinq_2yrs',\n",
    "          'inq_last_6mths', 'mths_since_last_delinq', 'open_acc', 'pub_rec', 'revol_bal', 'revol_util',\n",
    "          'total_acc','length_credit_history']"
   ]
  },
  {
   "cell_type": "code",
   "execution_count": 54,
   "metadata": {},
   "outputs": [],
   "source": [
    "from scipy.stats import zscore\n",
    "def norm(df, cols):\n",
    "    for e in cols:\n",
    "        df[e] = zscore(df[e])\n",
    "    return df"
   ]
  },
  {
   "cell_type": "code",
   "execution_count": 55,
   "metadata": {},
   "outputs": [],
   "source": [
    "df_07 = norm(df_07, to_norm)\n",
    "df_16 = norm(df_16, to_norm)"
   ]
  },
  {
   "cell_type": "code",
   "execution_count": 56,
   "metadata": {},
   "outputs": [
    {
     "data": {
      "text/html": [
       "<div>\n",
       "<style scoped>\n",
       "    .dataframe tbody tr th:only-of-type {\n",
       "        vertical-align: middle;\n",
       "    }\n",
       "\n",
       "    .dataframe tbody tr th {\n",
       "        vertical-align: top;\n",
       "    }\n",
       "\n",
       "    .dataframe thead th {\n",
       "        text-align: right;\n",
       "    }\n",
       "</style>\n",
       "<table border=\"1\" class=\"dataframe\">\n",
       "  <thead>\n",
       "    <tr style=\"text-align: right;\">\n",
       "      <th></th>\n",
       "      <th>loan_status</th>\n",
       "      <th>loan_amnt</th>\n",
       "      <th>funded_amnt</th>\n",
       "      <th>term</th>\n",
       "      <th>installment</th>\n",
       "      <th>emp_length</th>\n",
       "      <th>annual_inc</th>\n",
       "      <th>zip_code</th>\n",
       "      <th>dti</th>\n",
       "      <th>delinq_2yrs</th>\n",
       "      <th>inq_last_6mths</th>\n",
       "      <th>mths_since_last_delinq</th>\n",
       "      <th>open_acc</th>\n",
       "      <th>pub_rec</th>\n",
       "      <th>revol_bal</th>\n",
       "      <th>revol_util</th>\n",
       "      <th>total_acc</th>\n",
       "      <th>length_credit_history</th>\n",
       "      <th>home_ownership_MORTGAGE</th>\n",
       "      <th>home_ownership_NONE</th>\n",
       "      <th>home_ownership_OTHER</th>\n",
       "      <th>home_ownership_OWN</th>\n",
       "      <th>home_ownership_RENT</th>\n",
       "      <th>addr_state_AK</th>\n",
       "      <th>addr_state_AL</th>\n",
       "      <th>addr_state_AR</th>\n",
       "      <th>addr_state_AZ</th>\n",
       "      <th>addr_state_CA</th>\n",
       "      <th>addr_state_CO</th>\n",
       "      <th>addr_state_CT</th>\n",
       "      <th>addr_state_DC</th>\n",
       "      <th>addr_state_DE</th>\n",
       "      <th>addr_state_FL</th>\n",
       "      <th>addr_state_GA</th>\n",
       "      <th>addr_state_HI</th>\n",
       "      <th>addr_state_IA</th>\n",
       "      <th>addr_state_ID</th>\n",
       "      <th>addr_state_IL</th>\n",
       "      <th>addr_state_IN</th>\n",
       "      <th>addr_state_KS</th>\n",
       "      <th>addr_state_KY</th>\n",
       "      <th>addr_state_LA</th>\n",
       "      <th>addr_state_MA</th>\n",
       "      <th>addr_state_MD</th>\n",
       "      <th>addr_state_ME</th>\n",
       "      <th>addr_state_MI</th>\n",
       "      <th>addr_state_MN</th>\n",
       "      <th>addr_state_MO</th>\n",
       "      <th>addr_state_MS</th>\n",
       "      <th>addr_state_MT</th>\n",
       "      <th>addr_state_NC</th>\n",
       "      <th>addr_state_NE</th>\n",
       "      <th>addr_state_NH</th>\n",
       "      <th>addr_state_NJ</th>\n",
       "      <th>addr_state_NM</th>\n",
       "      <th>addr_state_NV</th>\n",
       "      <th>addr_state_NY</th>\n",
       "      <th>addr_state_OH</th>\n",
       "      <th>addr_state_OK</th>\n",
       "      <th>addr_state_OR</th>\n",
       "      <th>addr_state_PA</th>\n",
       "      <th>addr_state_RI</th>\n",
       "      <th>addr_state_SC</th>\n",
       "      <th>addr_state_SD</th>\n",
       "      <th>addr_state_TN</th>\n",
       "      <th>addr_state_TX</th>\n",
       "      <th>addr_state_UT</th>\n",
       "      <th>addr_state_VA</th>\n",
       "      <th>addr_state_VT</th>\n",
       "      <th>addr_state_WA</th>\n",
       "      <th>addr_state_WI</th>\n",
       "      <th>addr_state_WV</th>\n",
       "      <th>addr_state_WY</th>\n",
       "    </tr>\n",
       "  </thead>\n",
       "  <tbody>\n",
       "    <tr>\n",
       "      <th>39533</th>\n",
       "      <td>1</td>\n",
       "      <td>1.733543</td>\n",
       "      <td>1.810206</td>\n",
       "      <td>-0.339122</td>\n",
       "      <td>1.748339</td>\n",
       "      <td>1.687766</td>\n",
       "      <td>-0.486201</td>\n",
       "      <td>87100.0</td>\n",
       "      <td>0.020189</td>\n",
       "      <td>-0.323344</td>\n",
       "      <td>-0.294364</td>\n",
       "      <td>-0.871860</td>\n",
       "      <td>-0.361456</td>\n",
       "      <td>-0.29228</td>\n",
       "      <td>-0.082471</td>\n",
       "      <td>0.062502</td>\n",
       "      <td>-0.600404</td>\n",
       "      <td>-0.969111</td>\n",
       "      <td>0</td>\n",
       "      <td>0</td>\n",
       "      <td>0</td>\n",
       "      <td>0</td>\n",
       "      <td>1</td>\n",
       "      <td>0</td>\n",
       "      <td>0</td>\n",
       "      <td>0</td>\n",
       "      <td>0</td>\n",
       "      <td>0</td>\n",
       "      <td>0</td>\n",
       "      <td>0</td>\n",
       "      <td>0</td>\n",
       "      <td>0</td>\n",
       "      <td>0</td>\n",
       "      <td>0</td>\n",
       "      <td>0</td>\n",
       "      <td>0</td>\n",
       "      <td>0</td>\n",
       "      <td>0</td>\n",
       "      <td>0</td>\n",
       "      <td>0</td>\n",
       "      <td>0</td>\n",
       "      <td>0</td>\n",
       "      <td>0</td>\n",
       "      <td>0</td>\n",
       "      <td>0</td>\n",
       "      <td>0</td>\n",
       "      <td>0</td>\n",
       "      <td>0</td>\n",
       "      <td>0</td>\n",
       "      <td>0</td>\n",
       "      <td>0</td>\n",
       "      <td>0</td>\n",
       "      <td>0</td>\n",
       "      <td>0</td>\n",
       "      <td>1</td>\n",
       "      <td>0</td>\n",
       "      <td>0</td>\n",
       "      <td>0</td>\n",
       "      <td>0</td>\n",
       "      <td>0</td>\n",
       "      <td>0</td>\n",
       "      <td>0</td>\n",
       "      <td>0</td>\n",
       "      <td>0</td>\n",
       "      <td>0</td>\n",
       "      <td>0</td>\n",
       "      <td>0</td>\n",
       "      <td>0</td>\n",
       "      <td>0</td>\n",
       "      <td>0</td>\n",
       "      <td>0</td>\n",
       "      <td>0</td>\n",
       "      <td>0</td>\n",
       "    </tr>\n",
       "    <tr>\n",
       "      <th>39534</th>\n",
       "      <td>1</td>\n",
       "      <td>1.733543</td>\n",
       "      <td>1.810206</td>\n",
       "      <td>-0.339122</td>\n",
       "      <td>1.895037</td>\n",
       "      <td>-0.684241</td>\n",
       "      <td>-0.428638</td>\n",
       "      <td>90200.0</td>\n",
       "      <td>0.245137</td>\n",
       "      <td>-0.323344</td>\n",
       "      <td>-1.264972</td>\n",
       "      <td>-0.335137</td>\n",
       "      <td>-0.898867</td>\n",
       "      <td>-0.29228</td>\n",
       "      <td>-0.297722</td>\n",
       "      <td>1.538819</td>\n",
       "      <td>-0.021716</td>\n",
       "      <td>-0.237640</td>\n",
       "      <td>0</td>\n",
       "      <td>0</td>\n",
       "      <td>0</td>\n",
       "      <td>0</td>\n",
       "      <td>1</td>\n",
       "      <td>0</td>\n",
       "      <td>0</td>\n",
       "      <td>0</td>\n",
       "      <td>0</td>\n",
       "      <td>1</td>\n",
       "      <td>0</td>\n",
       "      <td>0</td>\n",
       "      <td>0</td>\n",
       "      <td>0</td>\n",
       "      <td>0</td>\n",
       "      <td>0</td>\n",
       "      <td>0</td>\n",
       "      <td>0</td>\n",
       "      <td>0</td>\n",
       "      <td>0</td>\n",
       "      <td>0</td>\n",
       "      <td>0</td>\n",
       "      <td>0</td>\n",
       "      <td>0</td>\n",
       "      <td>0</td>\n",
       "      <td>0</td>\n",
       "      <td>0</td>\n",
       "      <td>0</td>\n",
       "      <td>0</td>\n",
       "      <td>0</td>\n",
       "      <td>0</td>\n",
       "      <td>0</td>\n",
       "      <td>0</td>\n",
       "      <td>0</td>\n",
       "      <td>0</td>\n",
       "      <td>0</td>\n",
       "      <td>0</td>\n",
       "      <td>0</td>\n",
       "      <td>0</td>\n",
       "      <td>0</td>\n",
       "      <td>0</td>\n",
       "      <td>0</td>\n",
       "      <td>0</td>\n",
       "      <td>0</td>\n",
       "      <td>0</td>\n",
       "      <td>0</td>\n",
       "      <td>0</td>\n",
       "      <td>0</td>\n",
       "      <td>0</td>\n",
       "      <td>0</td>\n",
       "      <td>0</td>\n",
       "      <td>0</td>\n",
       "      <td>0</td>\n",
       "      <td>0</td>\n",
       "      <td>0</td>\n",
       "    </tr>\n",
       "    <tr>\n",
       "      <th>39535</th>\n",
       "      <td>1</td>\n",
       "      <td>-0.260427</td>\n",
       "      <td>-0.232299</td>\n",
       "      <td>-0.339122</td>\n",
       "      <td>-0.244175</td>\n",
       "      <td>-0.980741</td>\n",
       "      <td>-0.465491</td>\n",
       "      <td>3100.0</td>\n",
       "      <td>-0.242703</td>\n",
       "      <td>2.381657</td>\n",
       "      <td>-0.294364</td>\n",
       "      <td>-0.634704</td>\n",
       "      <td>-0.182319</td>\n",
       "      <td>-0.29228</td>\n",
       "      <td>-0.318792</td>\n",
       "      <td>-0.731105</td>\n",
       "      <td>-0.817412</td>\n",
       "      <td>-0.121703</td>\n",
       "      <td>0</td>\n",
       "      <td>0</td>\n",
       "      <td>0</td>\n",
       "      <td>0</td>\n",
       "      <td>1</td>\n",
       "      <td>0</td>\n",
       "      <td>0</td>\n",
       "      <td>0</td>\n",
       "      <td>0</td>\n",
       "      <td>0</td>\n",
       "      <td>0</td>\n",
       "      <td>0</td>\n",
       "      <td>0</td>\n",
       "      <td>0</td>\n",
       "      <td>0</td>\n",
       "      <td>0</td>\n",
       "      <td>0</td>\n",
       "      <td>0</td>\n",
       "      <td>0</td>\n",
       "      <td>0</td>\n",
       "      <td>0</td>\n",
       "      <td>0</td>\n",
       "      <td>0</td>\n",
       "      <td>0</td>\n",
       "      <td>0</td>\n",
       "      <td>0</td>\n",
       "      <td>0</td>\n",
       "      <td>0</td>\n",
       "      <td>0</td>\n",
       "      <td>0</td>\n",
       "      <td>0</td>\n",
       "      <td>0</td>\n",
       "      <td>0</td>\n",
       "      <td>0</td>\n",
       "      <td>1</td>\n",
       "      <td>0</td>\n",
       "      <td>0</td>\n",
       "      <td>0</td>\n",
       "      <td>0</td>\n",
       "      <td>0</td>\n",
       "      <td>0</td>\n",
       "      <td>0</td>\n",
       "      <td>0</td>\n",
       "      <td>0</td>\n",
       "      <td>0</td>\n",
       "      <td>0</td>\n",
       "      <td>0</td>\n",
       "      <td>0</td>\n",
       "      <td>0</td>\n",
       "      <td>0</td>\n",
       "      <td>0</td>\n",
       "      <td>0</td>\n",
       "      <td>0</td>\n",
       "      <td>0</td>\n",
       "      <td>0</td>\n",
       "    </tr>\n",
       "    <tr>\n",
       "      <th>39538</th>\n",
       "      <td>1</td>\n",
       "      <td>-1.010160</td>\n",
       "      <td>-1.000280</td>\n",
       "      <td>-0.339122</td>\n",
       "      <td>-1.002427</td>\n",
       "      <td>-0.980741</td>\n",
       "      <td>-0.620185</td>\n",
       "      <td>34900.0</td>\n",
       "      <td>-1.345764</td>\n",
       "      <td>-0.323344</td>\n",
       "      <td>-0.941436</td>\n",
       "      <td>-0.871860</td>\n",
       "      <td>-0.361456</td>\n",
       "      <td>-0.29228</td>\n",
       "      <td>-0.423476</td>\n",
       "      <td>-1.625213</td>\n",
       "      <td>-0.528068</td>\n",
       "      <td>-0.156027</td>\n",
       "      <td>0</td>\n",
       "      <td>0</td>\n",
       "      <td>0</td>\n",
       "      <td>0</td>\n",
       "      <td>1</td>\n",
       "      <td>0</td>\n",
       "      <td>0</td>\n",
       "      <td>0</td>\n",
       "      <td>0</td>\n",
       "      <td>0</td>\n",
       "      <td>0</td>\n",
       "      <td>0</td>\n",
       "      <td>0</td>\n",
       "      <td>0</td>\n",
       "      <td>1</td>\n",
       "      <td>0</td>\n",
       "      <td>0</td>\n",
       "      <td>0</td>\n",
       "      <td>0</td>\n",
       "      <td>0</td>\n",
       "      <td>0</td>\n",
       "      <td>0</td>\n",
       "      <td>0</td>\n",
       "      <td>0</td>\n",
       "      <td>0</td>\n",
       "      <td>0</td>\n",
       "      <td>0</td>\n",
       "      <td>0</td>\n",
       "      <td>0</td>\n",
       "      <td>0</td>\n",
       "      <td>0</td>\n",
       "      <td>0</td>\n",
       "      <td>0</td>\n",
       "      <td>0</td>\n",
       "      <td>0</td>\n",
       "      <td>0</td>\n",
       "      <td>0</td>\n",
       "      <td>0</td>\n",
       "      <td>0</td>\n",
       "      <td>0</td>\n",
       "      <td>0</td>\n",
       "      <td>0</td>\n",
       "      <td>0</td>\n",
       "      <td>0</td>\n",
       "      <td>0</td>\n",
       "      <td>0</td>\n",
       "      <td>0</td>\n",
       "      <td>0</td>\n",
       "      <td>0</td>\n",
       "      <td>0</td>\n",
       "      <td>0</td>\n",
       "      <td>0</td>\n",
       "      <td>0</td>\n",
       "      <td>0</td>\n",
       "      <td>0</td>\n",
       "    </tr>\n",
       "    <tr>\n",
       "      <th>39539</th>\n",
       "      <td>1</td>\n",
       "      <td>-0.180668</td>\n",
       "      <td>-0.150598</td>\n",
       "      <td>-0.339122</td>\n",
       "      <td>-0.211060</td>\n",
       "      <td>-0.387740</td>\n",
       "      <td>-0.260793</td>\n",
       "      <td>60600.0</td>\n",
       "      <td>-0.467652</td>\n",
       "      <td>-0.323344</td>\n",
       "      <td>-0.941436</td>\n",
       "      <td>-0.871860</td>\n",
       "      <td>1.788190</td>\n",
       "      <td>-0.29228</td>\n",
       "      <td>-0.453700</td>\n",
       "      <td>-1.798489</td>\n",
       "      <td>1.425005</td>\n",
       "      <td>-0.341755</td>\n",
       "      <td>0</td>\n",
       "      <td>0</td>\n",
       "      <td>0</td>\n",
       "      <td>0</td>\n",
       "      <td>1</td>\n",
       "      <td>0</td>\n",
       "      <td>0</td>\n",
       "      <td>0</td>\n",
       "      <td>0</td>\n",
       "      <td>0</td>\n",
       "      <td>0</td>\n",
       "      <td>0</td>\n",
       "      <td>0</td>\n",
       "      <td>0</td>\n",
       "      <td>0</td>\n",
       "      <td>0</td>\n",
       "      <td>0</td>\n",
       "      <td>0</td>\n",
       "      <td>0</td>\n",
       "      <td>1</td>\n",
       "      <td>0</td>\n",
       "      <td>0</td>\n",
       "      <td>0</td>\n",
       "      <td>0</td>\n",
       "      <td>0</td>\n",
       "      <td>0</td>\n",
       "      <td>0</td>\n",
       "      <td>0</td>\n",
       "      <td>0</td>\n",
       "      <td>0</td>\n",
       "      <td>0</td>\n",
       "      <td>0</td>\n",
       "      <td>0</td>\n",
       "      <td>0</td>\n",
       "      <td>0</td>\n",
       "      <td>0</td>\n",
       "      <td>0</td>\n",
       "      <td>0</td>\n",
       "      <td>0</td>\n",
       "      <td>0</td>\n",
       "      <td>0</td>\n",
       "      <td>0</td>\n",
       "      <td>0</td>\n",
       "      <td>0</td>\n",
       "      <td>0</td>\n",
       "      <td>0</td>\n",
       "      <td>0</td>\n",
       "      <td>0</td>\n",
       "      <td>0</td>\n",
       "      <td>0</td>\n",
       "      <td>0</td>\n",
       "      <td>0</td>\n",
       "      <td>0</td>\n",
       "      <td>0</td>\n",
       "      <td>0</td>\n",
       "    </tr>\n",
       "  </tbody>\n",
       "</table>\n",
       "</div>"
      ],
      "text/plain": [
       "       loan_status  loan_amnt  funded_amnt      term  installment  emp_length  annual_inc  zip_code       dti  delinq_2yrs  inq_last_6mths  mths_since_last_delinq  open_acc  pub_rec  revol_bal  revol_util  total_acc  length_credit_history  home_ownership_MORTGAGE  home_ownership_NONE  home_ownership_OTHER  home_ownership_OWN  home_ownership_RENT  addr_state_AK  addr_state_AL  addr_state_AR  addr_state_AZ  addr_state_CA  addr_state_CO  addr_state_CT  addr_state_DC  addr_state_DE  addr_state_FL  \\\n",
       "39533            1   1.733543     1.810206 -0.339122     1.748339    1.687766   -0.486201   87100.0  0.020189    -0.323344       -0.294364               -0.871860 -0.361456 -0.29228  -0.082471    0.062502  -0.600404              -0.969111                        0                    0                     0                   0                    1              0              0              0              0              0              0              0              0              0              0   \n",
       "39534            1   1.733543     1.810206 -0.339122     1.895037   -0.684241   -0.428638   90200.0  0.245137    -0.323344       -1.264972               -0.335137 -0.898867 -0.29228  -0.297722    1.538819  -0.021716              -0.237640                        0                    0                     0                   0                    1              0              0              0              0              1              0              0              0              0              0   \n",
       "39535            1  -0.260427    -0.232299 -0.339122    -0.244175   -0.980741   -0.465491    3100.0 -0.242703     2.381657       -0.294364               -0.634704 -0.182319 -0.29228  -0.318792   -0.731105  -0.817412              -0.121703                        0                    0                     0                   0                    1              0              0              0              0              0              0              0              0              0              0   \n",
       "39538            1  -1.010160    -1.000280 -0.339122    -1.002427   -0.980741   -0.620185   34900.0 -1.345764    -0.323344       -0.941436               -0.871860 -0.361456 -0.29228  -0.423476   -1.625213  -0.528068              -0.156027                        0                    0                     0                   0                    1              0              0              0              0              0              0              0              0              0              1   \n",
       "39539            1  -0.180668    -0.150598 -0.339122    -0.211060   -0.387740   -0.260793   60600.0 -0.467652    -0.323344       -0.941436               -0.871860  1.788190 -0.29228  -0.453700   -1.798489   1.425005              -0.341755                        0                    0                     0                   0                    1              0              0              0              0              0              0              0              0              0              0   \n",
       "\n",
       "       addr_state_GA  addr_state_HI  addr_state_IA  addr_state_ID  addr_state_IL  addr_state_IN  addr_state_KS  addr_state_KY  addr_state_LA  addr_state_MA  addr_state_MD  addr_state_ME  addr_state_MI  addr_state_MN  addr_state_MO  addr_state_MS  addr_state_MT  addr_state_NC  addr_state_NE  addr_state_NH  addr_state_NJ  addr_state_NM  addr_state_NV  addr_state_NY  addr_state_OH  addr_state_OK  addr_state_OR  addr_state_PA  addr_state_RI  addr_state_SC  addr_state_SD  addr_state_TN  \\\n",
       "39533              0              0              0              0              0              0              0              0              0              0              0              0              0              0              0              0              0              0              0              0              0              1              0              0              0              0              0              0              0              0              0              0   \n",
       "39534              0              0              0              0              0              0              0              0              0              0              0              0              0              0              0              0              0              0              0              0              0              0              0              0              0              0              0              0              0              0              0              0   \n",
       "39535              0              0              0              0              0              0              0              0              0              0              0              0              0              0              0              0              0              0              0              1              0              0              0              0              0              0              0              0              0              0              0              0   \n",
       "39538              0              0              0              0              0              0              0              0              0              0              0              0              0              0              0              0              0              0              0              0              0              0              0              0              0              0              0              0              0              0              0              0   \n",
       "39539              0              0              0              0              1              0              0              0              0              0              0              0              0              0              0              0              0              0              0              0              0              0              0              0              0              0              0              0              0              0              0              0   \n",
       "\n",
       "       addr_state_TX  addr_state_UT  addr_state_VA  addr_state_VT  addr_state_WA  addr_state_WI  addr_state_WV  addr_state_WY  \n",
       "39533              0              0              0              0              0              0              0              0  \n",
       "39534              0              0              0              0              0              0              0              0  \n",
       "39535              0              0              0              0              0              0              0              0  \n",
       "39538              0              0              0              0              0              0              0              0  \n",
       "39539              0              0              0              0              0              0              0              0  "
      ]
     },
     "execution_count": 56,
     "metadata": {},
     "output_type": "execute_result"
    }
   ],
   "source": [
    "df_07.head()"
   ]
  },
  {
   "cell_type": "code",
   "execution_count": 57,
   "metadata": {},
   "outputs": [],
   "source": [
    "#Split data into train and test\n",
    "df_07_train, df_07_test = train_test_split(df_07, test_size=0.2, random_state=90)\n",
    "df_16_train, df_16_test = train_test_split(df_16, test_size=0.2, random_state=90)\n",
    "\n",
    "#Split to x and y\n",
    "df_07_X_train = df_07_train.drop(labels = 'loan_status', axis = 1)\n",
    "df_07_y_train = df_07_train.loan_status\n",
    "df_07_X_test = df_07_test.drop(labels = 'loan_status', axis = 1)\n",
    "df_07_y_test = df_07_test.loan_status\n",
    "\n",
    "df_16_X_train = df_16_train.drop(labels = 'loan_status', axis = 1)\n",
    "df_16_y_train = df_16_train.loan_status\n",
    "df_16_X_test = df_16_test.drop(labels = 'loan_status', axis = 1)\n",
    "df_16_y_test = df_16_test.loan_status"
   ]
  },
  {
   "cell_type": "code",
   "execution_count": 58,
   "metadata": {},
   "outputs": [
    {
     "name": "stdout",
     "output_type": "stream",
     "text": [
      "2007 Data\n",
      "Train score: 0.7297181895815542\n",
      "Test score: 0.7389078498293515\n",
      "2016 Data\n",
      "Train score: 0.7504867731972606\n",
      "Test score: 0.750128684287089\n"
     ]
    }
   ],
   "source": [
    "#Trivial Model in which all loans are accepted\n",
    "triv_mod_07_train = np.sum(df_07_y_train)/len(df_07_y_train)\n",
    "triv_mod_07_test = np.sum(df_07_y_test)/len(df_07_y_test)\n",
    "print('2007 Data\\nTrain score: '+str(triv_mod_07_train))\n",
    "print('Test score: '+str(triv_mod_07_test))\n",
    "triv_mod_16_train = np.sum(df_16_y_train)/len(df_16_y_train)\n",
    "triv_mod_16_test = np.sum(df_16_y_test)/len(df_16_y_test)\n",
    "print('2016 Data\\nTrain score: '+str(triv_mod_16_train))\n",
    "print('Test score: '+str(triv_mod_16_test))"
   ]
  },
  {
   "cell_type": "code",
   "execution_count": 59,
   "metadata": {},
   "outputs": [
    {
     "name": "stdout",
     "output_type": "stream",
     "text": [
      "The accuracy of Logistic Regression Model on Training Set is  0.7297181895815542\n",
      "The accuracy of Logistic Regression Model on Testing Set is  0.7389078498293515\n"
     ]
    }
   ],
   "source": [
    "#Logistiv regression on 2007 data\n",
    "log_mod07 = LogisticRegressionCV().fit(df_07_X_train, df_07_y_train.values)\n",
    "\n",
    "log_mod07_train_score = log_mod07.score(df_07_X_train,df_07_y_train.values)\n",
    "log_mod07_test_score =log_mod07.score(df_07_X_test,df_07_y_test.values)\n",
    "print(\"The accuracy of Logistic Regression Model on Training Set is \", log_mod07_train_score)\n",
    "print(\"The accuracy of Logistic Regression Model on Testing Set is \", log_mod07_test_score)"
   ]
  },
  {
   "cell_type": "code",
   "execution_count": 60,
   "metadata": {},
   "outputs": [
    {
     "name": "stdout",
     "output_type": "stream",
     "text": [
      "The accuracy of Logistic Regression Model on Training Set is  0.7504867731972606\n",
      "The accuracy of Logistic Regression Model on Testing Set is  0.750128684287089\n"
     ]
    }
   ],
   "source": [
    "#Logistic regression on 2016 data\n",
    "log_mod16 = LogisticRegressionCV().fit(df_16_X_train, df_16_y_train.values)\n",
    "\n",
    "log_mod16_train_score = log_mod16.score(df_16_X_train, df_16_y_train.values)\n",
    "log_mod16_test_score = log_mod16.score(df_16_X_test, df_16_y_test.values)\n",
    "print(\"The accuracy of Logistic Regression Model on Training Set is \", log_mod16_train_score)\n",
    "print(\"The accuracy of Logistic Regression Model on Testing Set is \", log_mod16_test_score)"
   ]
  },
  {
   "cell_type": "code",
   "execution_count": 61,
   "metadata": {},
   "outputs": [
    {
     "name": "stdout",
     "output_type": "stream",
     "text": [
      "The accuracy of K-NN Model on Training Set is  0.7305721605465414\n",
      "The accuracy of K-NN Model on Testing Set is  0.7286689419795221\n"
     ]
    }
   ],
   "source": [
    "# kNN model for 2007 data\n",
    "knn07 = KNeighborsClassifier(n_neighbors=20).fit(df_07_X_train, df_07_y_train.values)\n",
    "\n",
    "knn07_train_score = knn07.score(df_07_X_train, df_07_y_train.values)\n",
    "knn07_test_score = knn07.score(df_07_X_test, df_07_y_test.values)\n",
    "\n",
    "print(\"The accuracy of K-NN Model on Training Set is \", knn07_train_score)\n",
    "print(\"The accuracy of K-NN Model on Testing Set is \", knn07_test_score)"
   ]
  },
  {
   "cell_type": "code",
   "execution_count": 62,
   "metadata": {},
   "outputs": [
    {
     "name": "stdout",
     "output_type": "stream",
     "text": [
      "The accuracy of K-NN Model on Training Set is  0.7586276352893783\n",
      "The accuracy of K-NN Model on Testing Set is  0.7454960499518832\n"
     ]
    }
   ],
   "source": [
    "# kNN model for 2016 data\n",
    "knn16 = KNeighborsClassifier(n_neighbors=20).fit(df_16_X_train, df_16_y_train.values)\n",
    "\n",
    "knn16_train_score = knn16.score(df_16_X_train, df_16_y_train.values)\n",
    "knn16_test_score = knn16.score(df_16_X_test, df_16_y_test.values)\n",
    "\n",
    "print(\"The accuracy of K-NN Model on Training Set is \", knn16_train_score)\n",
    "print(\"The accuracy of K-NN Model on Testing Set is \", knn16_test_score)"
   ]
  },
  {
   "cell_type": "code",
   "execution_count": 63,
   "metadata": {},
   "outputs": [
    {
     "name": "stdout",
     "output_type": "stream",
     "text": [
      "The accuracy of Tree Model on Training Set is  0.7433817250213492\n",
      "The accuracy of Tree Model on Testing Set is  0.7320819112627986\n"
     ]
    }
   ],
   "source": [
    "# tree model for 2007 data\n",
    "tree07 = DecisionTreeClassifier(max_depth = 4).fit(df_07_X_train, df_07_y_train.values)\n",
    "\n",
    "tree07_train_score = tree07.score(df_07_X_train, df_07_y_train.values)\n",
    "tree07_test_score = tree07.score(df_07_X_test, df_07_y_test.values)\n",
    "\n",
    "print(\"The accuracy of Tree Model on Training Set is \", tree07_train_score)\n",
    "print(\"The accuracy of Tree Model on Testing Set is \", tree07_test_score)"
   ]
  },
  {
   "cell_type": "code",
   "execution_count": 64,
   "metadata": {},
   "outputs": [
    {
     "name": "stdout",
     "output_type": "stream",
     "text": [
      "The accuracy of Tree Model on Training Set is  0.7521764916521194\n",
      "The accuracy of Tree Model on Testing Set is  0.7530380681691023\n"
     ]
    }
   ],
   "source": [
    "# tree model for 2016 data\n",
    "tree16 = DecisionTreeClassifier(max_depth = 4).fit(df_16_X_train, df_16_y_train.values)\n",
    "\n",
    "tree16_train_score = tree16.score(df_16_X_train, df_16_y_train.values)\n",
    "tree16_test_score = tree16.score(df_16_X_test, df_16_y_test.values)\n",
    "\n",
    "print(\"The accuracy of Tree Model on Training Set is \", tree16_train_score)\n",
    "print(\"The accuracy of Tree Model on Testing Set is \", tree16_test_score)"
   ]
  },
  {
   "cell_type": "code",
   "execution_count": 65,
   "metadata": {},
   "outputs": [],
   "source": [
    "# Get train score, cross val score means and stds\n",
    "train_scores = []\n",
    "cvmeans = []\n",
    "cvstds = []\n",
    "depths = list(range(1, 15))\n",
    "#for all specified maximum tree depths --> fit model and add scores to list\n",
    "for i in depths:\n",
    "    #create/fit model\n",
    "    tree = DecisionTreeClassifier(max_depth = i).fit(df_07_X_train, df_07_y_train.values) \n",
    "    train_scores.append(tree.score(df_07_X_train, df_07_y_train.values))\n",
    "    score = cross_val_score(estimator=tree, X=df_07_X_train, y=df_07_y_train.values, cv=5)\n",
    "    cvmeans.append(score.mean())\n",
    "    cvstds.append(score.std())\n",
    "    \n",
    "cvstds = np.array(cvstds)\n",
    "cvmeans = np.array(cvmeans)"
   ]
  },
  {
   "cell_type": "code",
   "execution_count": 66,
   "metadata": {
    "scrolled": true
   },
   "outputs": [
    {
     "data": {
      "image/png": "[encoded data removed]",
      "text/plain": [
       "<Figure size 432x288 with 1 Axes>"
      ]
     },
     "metadata": {},
     "output_type": "display_data"
    }
   ],
   "source": [
    "#create plot\n",
    "plt.plot(depths, cvmeans, label=\"Mean Cross Val\")\n",
    "plt.fill_between(depths, cvmeans - 2*cvstds, cvmeans + 2*cvstds, alpha=0.5)\n",
    "ylim = plt.ylim()\n",
    "plt.plot(depths, train_scores, '-+', label=\"Train\")\n",
    "plt.legend()\n",
    "plt.ylabel(\"Accuracy\")\n",
    "plt.xlabel(\"Max Depth\")\n",
    "plt.xticks(depths)\n",
    "plt.title(\"Cross Val Score and Train Score vs Depth\");"
   ]
  },
  {
   "cell_type": "code",
   "execution_count": 67,
   "metadata": {},
   "outputs": [
    {
     "name": "stdout",
     "output_type": "stream",
     "text": [
      "The accuracy of Randy Model on Training Set is  0.7361229718189581\n",
      "The accuracy of Randy Model on Testing Set is  0.7389078498293515\n"
     ]
    }
   ],
   "source": [
    "randy07 = RandomForestClassifier(n_estimators = 45, max_depth = 6).fit(df_07_X_train, df_07_y_train.values)\n",
    "randy07_train_score = randy07.score(df_07_X_train, df_07_y_train.values)\n",
    "randy07_test_score = randy07.score(df_07_X_test, df_07_y_test.values)\n",
    "print(\"The accuracy of Randy Model on Training Set is \", randy07_train_score)\n",
    "print(\"The accuracy of Randy Model on Testing Set is \", randy07_test_score)"
   ]
  },
  {
   "cell_type": "code",
   "execution_count": 68,
   "metadata": {},
   "outputs": [
    {
     "name": "stdout",
     "output_type": "stream",
     "text": [
      "The accuracy of Randy Model on Training Set is  0.7504867731972606\n",
      "The accuracy of Randy Model on Testing Set is  0.750128684287089\n"
     ]
    }
   ],
   "source": [
    "randy16 = RandomForestClassifier(n_estimators = 45, max_depth = 6).fit(df_16_X_train, df_16_y_train.values)\n",
    "randy16_train_score = randy16.score(df_16_X_train, df_16_y_train.values)\n",
    "randy16_test_score = randy16.score(df_16_X_test, df_16_y_test.values)\n",
    "print(\"The accuracy of Randy Model on Training Set is \", randy16_train_score)\n",
    "print(\"The accuracy of Randy Model on Testing Set is \", randy16_test_score)"
   ]
  },
  {
   "cell_type": "code",
   "execution_count": 69,
   "metadata": {},
   "outputs": [
    {
     "name": "stdout",
     "output_type": "stream",
     "text": [
      "The accuracy of Randy Model on Training Set is  1.0\n",
      "The accuracy of Randy Model on Testing Set is  0.735494880546075\n"
     ]
    }
   ],
   "source": [
    "ada07 = AdaBoostClassifier(base_estimator=DecisionTreeClassifier(max_depth=6), n_estimators=800, learning_rate=0.05).fit(df_07_X_train, df_07_y_train.values)\n",
    "ada07_train_score = ada07.score(df_07_X_train, df_07_y_train.values)\n",
    "ada07_test_score = ada07.score(df_07_X_test, df_07_y_test.values)\n",
    "print(\"The accuracy of Randy Model on Training Set is \", ada07_train_score)\n",
    "print(\"The accuracy of Randy Model on Testing Set is \", ada07_test_score)"
   ]
  },
  {
   "cell_type": "code",
   "execution_count": 77,
   "metadata": {},
   "outputs": [],
   "source": [
    "# Takes a while to run\n",
    "#ada16 = AdaBoostClassifier(base_estimator=DecisionTreeClassifier(max_depth=6), n_estimators=800, learning_rate=0.05).fit(df_16_X_train, df_16_y_train.values)\n",
    "#ada16_train_score = ada16.score(df_16_X_train, df_16_y_train.values)\n",
    "#ada16_test_score = ada16.score(df_16_X_test, df_16_y_test.values)\n",
    "#print(\"The accuracy of Randy Model on Training Set is \", ada16_train_score)\n",
    "#print(\"The accuracy of Randy Model on Testing Set is \", ada16_test_score)"
   ]
  },
  {
   "cell_type": "code",
   "execution_count": 71,
   "metadata": {},
   "outputs": [
    {
     "name": "stdout",
     "output_type": "stream",
     "text": [
      "The accuracy of LDA Model on Training Set is  0.7318531169940222\n",
      "The accuracy of LDA Model on Testing Set is  0.7167235494880546\n"
     ]
    }
   ],
   "source": [
    "#Build an LDA Model and report train and test accuracy\n",
    "lda07 = LinearDiscriminantAnalysis().fit(df_07_X_train, df_07_y_train.values)\n",
    "lda07_train_score = lda07.score(df_07_X_train, df_07_y_train.values)\n",
    "lda07_test_score = lda07.score(df_07_X_test, df_07_y_test.values)\n",
    "print(\"The accuracy of LDA Model on Training Set is \", lda07_train_score)\n",
    "print(\"The accuracy of LDA Model on Testing Set is \", lda07_test_score)"
   ]
  },
  {
   "cell_type": "code",
   "execution_count": 72,
   "metadata": {},
   "outputs": [
    {
     "name": "stdout",
     "output_type": "stream",
     "text": [
      "The accuracy of LDA Model on Training Set is  0.7556230696924936\n",
      "The accuracy of LDA Model on Testing Set is  0.7550970167625272\n"
     ]
    }
   ],
   "source": [
    "#Build an LDA Model and report train and test accuracy\n",
    "lda16 = LinearDiscriminantAnalysis().fit(df_16_X_train, df_16_y_train.values)\n",
    "lda16_train_score = lda16.score(df_16_X_train, df_16_y_train.values)\n",
    "lda16_test_score = lda16.score(df_16_X_test, df_16_y_test.values)\n",
    "print(\"The accuracy of LDA Model on Training Set is \", lda16_train_score)\n",
    "print(\"The accuracy of LDA Model on Testing Set is \", lda16_test_score)"
   ]
  },
  {
   "cell_type": "code",
   "execution_count": 73,
   "metadata": {},
   "outputs": [
    {
     "name": "stdout",
     "output_type": "stream",
     "text": [
      "The accuracy of QDA Model on Training Set is  0.2941929974380871\n",
      "The accuracy of QDA Model on Testing Set is  0.2696245733788396\n"
     ]
    }
   ],
   "source": [
    "qda07 = QuadraticDiscriminantAnalysis().fit(df_07_X_train, df_07_y_train.values)\n",
    "\n",
    "qda07_train_score = qda07.score(df_07_X_train, df_07_y_train.values)\n",
    "qda07_test_score = qda07.score(df_07_X_test, df_07_y_test.values)\n",
    "\n",
    "print(\"The accuracy of QDA Model on Training Set is \", qda07_train_score)\n",
    "print(\"The accuracy of QDA Model on Testing Set is \", qda07_test_score)"
   ]
  },
  {
   "cell_type": "code",
   "execution_count": 74,
   "metadata": {},
   "outputs": [
    {
     "name": "stdout",
     "output_type": "stream",
     "text": [
      "The accuracy of QDA Model on Training Set is  0.3825086164451009\n",
      "The accuracy of QDA Model on Testing Set is  0.3788465411901618\n"
     ]
    }
   ],
   "source": [
    "qda16 = QuadraticDiscriminantAnalysis().fit(df_16_X_train, df_16_y_train.values)\n",
    "\n",
    "qda16_train_score = qda16.score(df_16_X_train, df_16_y_train.values)\n",
    "qda16_test_score = qda16.score(df_16_X_test, df_16_y_test.values)\n",
    "\n",
    "print(\"The accuracy of QDA Model on Training Set is \", qda16_train_score)\n",
    "print(\"The accuracy of QDA Model on Testing Set is \", qda16_test_score)"
   ]
  },
  {
   "cell_type": "code",
   "execution_count": 75,
   "metadata": {},
   "outputs": [
    {
     "name": "stdout",
     "output_type": "stream",
     "text": [
      "The accuracy of SVC Model on Training Set is  0.7937660119555935\n",
      "The accuracy of SVC Model on Testing Set is  0.7252559726962458\n"
     ]
    }
   ],
   "source": [
    "svm07 = SVC().fit(df_07_X_train, df_07_y_train.values)\n",
    "\n",
    "svm07_train_score = svm07.score(df_07_X_train, df_07_y_train.values)\n",
    "svm07_test_score = svm07.score(df_07_X_test, df_07_y_test.values)\n",
    "\n",
    "print(\"The accuracy of SVC Model on Training Set is \", svm07_train_score)\n",
    "print(\"The accuracy of SVC Model on Testing Set is \", svm07_test_score)"
   ]
  },
  {
   "cell_type": "code",
   "execution_count": 78,
   "metadata": {},
   "outputs": [],
   "source": [
    "# Talk about each model\n",
    "# Talk about optimzing random forest\n",
    "# Talk about coefficients of Logistic Regression"
   ]
  },
  {
   "cell_type": "code",
   "execution_count": null,
   "metadata": {},
   "outputs": [],
   "source": []
  }
 ],
 "metadata": {
  "kernelspec": {
   "display_name": "Python 3",
   "language": "python",
   "name": "python3"
  },
  "language_info": {
   "codemirror_mode": {
    "name": "ipython",
    "version": 3
   },
   "file_extension": ".py",
   "mimetype": "text/x-python",
   "name": "python",
   "nbconvert_exporter": "python",
   "pygments_lexer": "ipython3",
   "version": "3.6.5"
  }
 },
 "nbformat": 4,
 "nbformat_minor": 2
}
